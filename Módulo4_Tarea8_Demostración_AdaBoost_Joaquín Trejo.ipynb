{
 "cells": [
  {
   "cell_type": "markdown",
   "metadata": {},
   "source": [
    "<h2 style=\"color:crimson\">Tarea 8</h2>\n",
    "\n",
    "Demuestra que:\n",
    "\n",
    "\n",
    "$$ w_{i}^{(m+1)}\\;=\\;w_{i}^{m}\\cdot e^{\\beta_{m}\\mathbb{1}\\;(y_{i}\\neq G(x_{i}))}$$\n",
    "\n",
    "\n",
    "Considerando un modelo AdaBoost y la función exponencial como fución de pérdida:\n",
    "\n",
    "$$ L\\;(y,f(x))\\;=\\;e^{(\\;-y\\;f(x)\\;)}$$"
   ]
  },
  {
   "cell_type": "markdown",
   "metadata": {},
   "source": [
    "<h2 style=\"color:blue\">Demostración</h2>"
   ]
  },
  {
   "cell_type": "markdown",
   "metadata": {},
   "source": [
    "Las funciones base para AdaBoost son los clasificadores individuales, por lo tanto:"
   ]
  },
  {
   "cell_type": "markdown",
   "metadata": {},
   "source": [
    "$$1)\\;\\;\\;L\\;(y_{i},f_{m-1}(x_{i})\\;+\\;\\beta b(x_{i}\\;;\\;\\gamma))\\;=\\;e^{(y_{i})(f_{m-1}(x_{i})\\;+\\;\\beta b(x_{i}\\;;\\;\\gamma))}$$\n",
    "\n",
    "$$ =\\;e^{\\;-y_{i}\\;(f_{m-1}(x_{i})\\;+\\;\\beta G(x_{i}))}$$"
   ]
  },
  {
   "cell_type": "markdown",
   "metadata": {},
   "source": [
    "Utilizando la siguiente funció de pérdida:\n",
    "\n",
    "$$ L\\;(y,f(x))\\;=\\;e^{(\\;-y\\;f(x)\\;)}$$\n",
    "\n",
    "debemos resolver:"
   ]
  },
  {
   "cell_type": "markdown",
   "metadata": {},
   "source": [
    "$$2)\\;\\;\\;(\\beta_{m},\\;G_{m})\\;=\\;arg\\;min_{(\\beta,\\;G)}\\;\\;\\sum_{i=1}^{N} e^{\\;-y_{i}\\;(f_{m-1}(x_{i})\\;+\\;\\beta G(x_{i}))}$$"
   ]
  },
  {
   "cell_type": "markdown",
   "metadata": {},
   "source": [
    "Para ello, primeramente definimos:"
   ]
  },
  {
   "cell_type": "markdown",
   "metadata": {},
   "source": [
    "$$\\;\\;w_{i}^{(m)}\\;\\;=\\;\\;e^{\\;-y_{i}f_{m-1}(x_{i})}$$"
   ]
  },
  {
   "cell_type": "markdown",
   "metadata": {},
   "source": [
    "Por lo tanto 2) se puede expresar de la siguiente manera:"
   ]
  },
  {
   "cell_type": "markdown",
   "metadata": {},
   "source": [
    "$$3)\\;\\;\\;(\\beta_{m},\\;G_{m})\\;=\\;arg\\;min_{(\\beta,\\;G)}\\;\\;\\sum_{i=1}^{N}\\;w_{i}^{(m)}\\;e^{\\;-y_{i}\\beta G(x_{i})}$$"
   ]
  },
  {
   "cell_type": "markdown",
   "metadata": {},
   "source": [
    "Ahora bien, para **cualquier valor fijo de beta**, la solución para **Gm** es:"
   ]
  },
  {
   "cell_type": "markdown",
   "metadata": {},
   "source": [
    "$$G_{m}\\;=\\;\\sum_{i=1}^{N}\\;w_{i}^{(m)}\\;\\mathbb{1}\\;(y_{i}\\neq G(x_{i}))$$"
   ]
  },
  {
   "cell_type": "markdown",
   "metadata": {},
   "source": [
    "Considerando la solución anterior, podemos separar la siguiente expresión en 2 partes:"
   ]
  },
  {
   "cell_type": "markdown",
   "metadata": {},
   "source": [
    "$$\\sum_{i=1}^{N}\\;w_{i}^{(m)}\\;e^{\\;-y_{i}\\beta G(x_{i})}$$\n",
    "\n",
    "$$=\\;\\sum_{i=1}^{N}\\;w_{i}^{(m)}\\;e^{\\;\\beta }\\;\\;\\mathbb{1}\\;(y_{i}\\neq G(x_{i}))+\\;\\sum_{i=1}^{N}\\;w_{i}^{(m)}\\;e^{\\;-\\beta }\\;\\mathbb{1}\\;(y_{i}=G(x_{i}))$$\n",
    "\n",
    "\n",
    "$$=\\;\\sum_{i=1}^{N}\\;w_{i}^{(m)}\\;e^{\\;\\beta }\\;\\;\\mathbb{1}\\;(y_{i}\\neq G(x_{i}))+\\;\\sum_{i=1}^{N}\\;w_{i}^{(m)}\\;e^{\\;-\\beta }\\;(1\\;-\\;\\mathbb{1}\\;(y_{i}\\neq G(x_{i}))$$\n",
    "\n",
    "\n",
    "$$4)\\;\\;=(e^{\\;\\beta }-e^{\\;-\\beta })\\;\\sum_{i=1}^{N}\\;w_{i}^{(m)}\\;\\mathbb{1}\\;(y_{i}\\neq G(x_{i}))\\;+\\;\\;e^{\\;-\\beta }\\sum_{i=1}^{N}\\;w_{i}^{(m)}\\;$$\n"
   ]
  },
  {
   "cell_type": "markdown",
   "metadata": {},
   "source": [
    "Derivamos respecto a **beta** e igualamos a 0:\n"
   ]
  },
  {
   "cell_type": "markdown",
   "metadata": {},
   "source": [
    "$$(e^{\\;\\beta }+e^{\\;-\\beta })\\;\\sum_{i=1}^{N}\\;w_{i}^{(m)}\\;\\mathbb{1}\\;(y_{i}\\neq G(x_{i}))\\;-\\;\\;e^{\\;-\\beta }\\sum_{i=1}^{N}\\;w_{i}^{(m)}\\;=\\;0$$"
   ]
  },
  {
   "cell_type": "markdown",
   "metadata": {},
   "source": [
    "Multiplicamos ambos toda la igualdad por **beta**:"
   ]
  },
  {
   "cell_type": "markdown",
   "metadata": {},
   "source": [
    "$$\\beta\\;*\\;((e^{\\;\\beta }+e^{\\;-\\beta })\\;\\sum_{i=1}^{N}\\;w_{i}^{(m)}\\;\\mathbb{1}\\;(y_{i}\\neq G(x_{i}))\\;-\\;\\;e^{\\;-\\beta }\\sum_{i=1}^{N}\\;w_{i}^{(m)})\\;=\\;0$$"
   ]
  },
  {
   "cell_type": "markdown",
   "metadata": {},
   "source": [
    "$$(e^{\\;2\\beta }+1)\\;\\sum_{i=1}^{N}\\;w_{i}^{(m)}\\;\\mathbb{1}\\;(y_{i}\\neq G(x_{i}))\\;-\\;\\;\\sum_{i=1}^{N}\\;w_{i}^{(m)}\\;=\\;0$$"
   ]
  },
  {
   "cell_type": "markdown",
   "metadata": {},
   "source": [
    "Despejamos **e^2*beta**:\n",
    "\n",
    "$$5)\\;\\;e^{2\\beta}\\;=\\;\\frac{\\sum_{i=1}^{N}\\;w_{i}^{(m)}\\;-\\;\\sum_{i=1}^{N}\\;w_{i}^{(m)}\\;\\mathbb{1}\\;(y_{i}\\neq G(x_{i}))}{\\sum_{i=1}^{N}\\;w_{i}^{(m)}\\;\\mathbb{1}\\;(y_{i}\\neq G(x_{i}))}$$"
   ]
  },
  {
   "cell_type": "markdown",
   "metadata": {},
   "source": [
    "Definimos la siguiete variable:"
   ]
  },
  {
   "cell_type": "markdown",
   "metadata": {},
   "source": [
    "$$err_{m}=\\;\\frac{\\sum_{i=1}^{N}\\;w_{i}^{(m)}\\;\\mathbb{1}\\;(y_{i}\\neq G(x_{i}))}{\\sum_{i=1}^{N}\\;w_{i}^{(m)}}$$"
   ]
  },
  {
   "cell_type": "markdown",
   "metadata": {},
   "source": [
    "Por lo tanto,  5) puede expresar de la siguiente manera:"
   ]
  },
  {
   "cell_type": "markdown",
   "metadata": {},
   "source": [
    "$$e^{2\\beta}=\\frac{1}{err_{m}}-1$$"
   ]
  },
  {
   "cell_type": "markdown",
   "metadata": {},
   "source": [
    "Despejando **beta** obtenemos:"
   ]
  },
  {
   "cell_type": "markdown",
   "metadata": {},
   "source": [
    "$$\\beta=\\frac{1}{2}\\;log\\frac{1-err_{m}}{err_{m}}$$"
   ]
  },
  {
   "cell_type": "markdown",
   "metadata": {},
   "source": [
    "Ahora procedemos a actualizar la siguiente aproximación:"
   ]
  },
  {
   "cell_type": "markdown",
   "metadata": {},
   "source": [
    "$$f_{m}(x)=f_{(m-1)}(x)\\;+\\;\\beta_{m}G_{m}(x_{i}) $$"
   ]
  },
  {
   "cell_type": "markdown",
   "metadata": {},
   "source": [
    "Multiplicamos toda la igualdad por y_i\n",
    "\n",
    "$$y_{i}f_{m}(x)=y_{i}f_{(m-1)}(x)\\;+\\;\\beta_{m}y_{i}G_{m}(x_{i}) $$\n",
    "\n"
   ]
  },
  {
   "cell_type": "markdown",
   "metadata": {},
   "source": [
    "Utilizamos ambos lados de la igualdad como exponentes de e:"
   ]
  },
  {
   "cell_type": "markdown",
   "metadata": {},
   "source": [
    "$$6)\\;\\;e^{y_{i}f_{m}(x)}=e^{y_{i}f_{(m-1)}(x)\\;+\\;\\beta_{m}y_{i}G_{m}(x_{i})}$$"
   ]
  },
  {
   "cell_type": "markdown",
   "metadata": {},
   "source": [
    "Recorando que:\n",
    "\n",
    "$$\\;\\;w_{i}^{(m)}\\;\\;=\\;\\;e^{\\;-y_{i}f_{m-1}(x_{i})}$$"
   ]
  },
  {
   "cell_type": "markdown",
   "metadata": {},
   "source": [
    "y sustituyendo en 6) obtenemos:"
   ]
  },
  {
   "cell_type": "markdown",
   "metadata": {},
   "source": [
    "$$7)\\;\\; w_{i}^{(m+1)}\\;=\\;w_{i}^{m}\\cdot e^{-\\beta_{m}y_{i}G_{m}(x_{i})}$$"
   ]
  },
  {
   "cell_type": "markdown",
   "metadata": {},
   "source": [
    "Debemos considerar los valores que puede tomar 7):"
   ]
  },
  {
   "cell_type": "markdown",
   "metadata": {},
   "source": [
    "$$\n",
    "w_{i}^{m}\\cdot e^{-\\beta_{m}y_{i}G_{m}(x_{i})}=\\begin{cases}\n",
    "w_{i}^{m}e^{\\beta_{m}},\n",
    "& \\mbox{si $y_{i}\\neq G(x_{i})$,}\\\\\n",
    "w_{i}^{m}e^{-\\beta_{m}},\n",
    "& \\mbox{si $y_{i}= G(x_{i})$,}&\\end{cases}\n",
    "$$\n"
   ]
  },
  {
   "cell_type": "markdown",
   "metadata": {},
   "source": [
    "Por lo anterior, 7) puede ser expresada de la siguiente manera:"
   ]
  },
  {
   "cell_type": "markdown",
   "metadata": {},
   "source": [
    "$$8)\\;\\; w_{i}^{(m+1)}\\;=\\;w_{i}^{m}\\cdot e^{2\\beta_{m}\\mathbb{1}\\;(y_{i}\\neq G(x_{i}))}\\cdot e^{-\\beta_{m}}$$"
   ]
  },
  {
   "cell_type": "markdown",
   "metadata": {},
   "source": [
    "Definimos la siguiente variable:\n",
    "\n",
    "\n",
    "$$ \\alpha_{m} = 2\\beta_{m}$$\n",
    "\n",
    "**Sustituimos en 8) queda demostrado que:**\n",
    "\n",
    "$$ w_{i}^{(m+1)}\\;=\\;w_{i}^{m}\\cdot e^{\\alpha_{m}\\mathbb{1}\\;(y_{i}\\neq G(x_{i}))}\\cdot e^{-\\beta_{m}}$$\n"
   ]
  }
 ],
 "metadata": {
  "kernelspec": {
   "display_name": "Python 3",
   "language": "python",
   "name": "python3"
  },
  "language_info": {
   "codemirror_mode": {
    "name": "ipython",
    "version": 3
   },
   "file_extension": ".py",
   "mimetype": "text/x-python",
   "name": "python",
   "nbconvert_exporter": "python",
   "pygments_lexer": "ipython3",
   "version": "3.7.4"
  }
 },
 "nbformat": 4,
 "nbformat_minor": 2
}
