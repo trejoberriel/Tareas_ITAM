{
 "cells": [
  {
   "cell_type": "markdown",
   "metadata": {},
   "source": [
    "<h2 style=\"color:crimson\">Tarea 7 - Joaquín Trejo</h2>\n",
    "\n",
    "**Utilizando la base \"train.csv\", genera un modelo que mejore la R2 y el MAE que se obtuvo en la Tarea 2 de este módulo**"
   ]
  },
  {
   "cell_type": "markdown",
   "metadata": {},
   "source": [
    "Como primer paso, debemos extraer la información con la que trabajaremos, por lo que es necesario que el archivo `\"train.csv\"` se encuentre en la misma carpeta en donde se encuentra este notebook. Esto lo realizaremos mediante la extracción de un archivo y trasladándolo a un `PandasDataFrame`:"
   ]
  },
  {
   "cell_type": "code",
   "execution_count": 458,
   "metadata": {
    "scrolled": true
   },
   "outputs": [
    {
     "data": {
      "text/html": [
       "<div>\n",
       "<style scoped>\n",
       "    .dataframe tbody tr th:only-of-type {\n",
       "        vertical-align: middle;\n",
       "    }\n",
       "\n",
       "    .dataframe tbody tr th {\n",
       "        vertical-align: top;\n",
       "    }\n",
       "\n",
       "    .dataframe thead th {\n",
       "        text-align: right;\n",
       "    }\n",
       "</style>\n",
       "<table border=\"1\" class=\"dataframe\">\n",
       "  <thead>\n",
       "    <tr style=\"text-align: right;\">\n",
       "      <th></th>\n",
       "      <th>Id</th>\n",
       "      <th>MSSubClass</th>\n",
       "      <th>MSZoning</th>\n",
       "      <th>LotFrontage</th>\n",
       "      <th>LotArea</th>\n",
       "      <th>Street</th>\n",
       "      <th>Alley</th>\n",
       "      <th>LotShape</th>\n",
       "      <th>LandContour</th>\n",
       "      <th>Utilities</th>\n",
       "      <th>...</th>\n",
       "      <th>PoolArea</th>\n",
       "      <th>PoolQC</th>\n",
       "      <th>Fence</th>\n",
       "      <th>MiscFeature</th>\n",
       "      <th>MiscVal</th>\n",
       "      <th>MoSold</th>\n",
       "      <th>YrSold</th>\n",
       "      <th>SaleType</th>\n",
       "      <th>SaleCondition</th>\n",
       "      <th>SalePrice</th>\n",
       "    </tr>\n",
       "  </thead>\n",
       "  <tbody>\n",
       "    <tr>\n",
       "      <th>0</th>\n",
       "      <td>1</td>\n",
       "      <td>60</td>\n",
       "      <td>RL</td>\n",
       "      <td>65.0</td>\n",
       "      <td>8450</td>\n",
       "      <td>Pave</td>\n",
       "      <td>NaN</td>\n",
       "      <td>Reg</td>\n",
       "      <td>Lvl</td>\n",
       "      <td>AllPub</td>\n",
       "      <td>...</td>\n",
       "      <td>0</td>\n",
       "      <td>NaN</td>\n",
       "      <td>NaN</td>\n",
       "      <td>NaN</td>\n",
       "      <td>0</td>\n",
       "      <td>2</td>\n",
       "      <td>2008</td>\n",
       "      <td>WD</td>\n",
       "      <td>Normal</td>\n",
       "      <td>208500</td>\n",
       "    </tr>\n",
       "    <tr>\n",
       "      <th>1</th>\n",
       "      <td>2</td>\n",
       "      <td>20</td>\n",
       "      <td>RL</td>\n",
       "      <td>80.0</td>\n",
       "      <td>9600</td>\n",
       "      <td>Pave</td>\n",
       "      <td>NaN</td>\n",
       "      <td>Reg</td>\n",
       "      <td>Lvl</td>\n",
       "      <td>AllPub</td>\n",
       "      <td>...</td>\n",
       "      <td>0</td>\n",
       "      <td>NaN</td>\n",
       "      <td>NaN</td>\n",
       "      <td>NaN</td>\n",
       "      <td>0</td>\n",
       "      <td>5</td>\n",
       "      <td>2007</td>\n",
       "      <td>WD</td>\n",
       "      <td>Normal</td>\n",
       "      <td>181500</td>\n",
       "    </tr>\n",
       "    <tr>\n",
       "      <th>2</th>\n",
       "      <td>3</td>\n",
       "      <td>60</td>\n",
       "      <td>RL</td>\n",
       "      <td>68.0</td>\n",
       "      <td>11250</td>\n",
       "      <td>Pave</td>\n",
       "      <td>NaN</td>\n",
       "      <td>IR1</td>\n",
       "      <td>Lvl</td>\n",
       "      <td>AllPub</td>\n",
       "      <td>...</td>\n",
       "      <td>0</td>\n",
       "      <td>NaN</td>\n",
       "      <td>NaN</td>\n",
       "      <td>NaN</td>\n",
       "      <td>0</td>\n",
       "      <td>9</td>\n",
       "      <td>2008</td>\n",
       "      <td>WD</td>\n",
       "      <td>Normal</td>\n",
       "      <td>223500</td>\n",
       "    </tr>\n",
       "    <tr>\n",
       "      <th>3</th>\n",
       "      <td>4</td>\n",
       "      <td>70</td>\n",
       "      <td>RL</td>\n",
       "      <td>60.0</td>\n",
       "      <td>9550</td>\n",
       "      <td>Pave</td>\n",
       "      <td>NaN</td>\n",
       "      <td>IR1</td>\n",
       "      <td>Lvl</td>\n",
       "      <td>AllPub</td>\n",
       "      <td>...</td>\n",
       "      <td>0</td>\n",
       "      <td>NaN</td>\n",
       "      <td>NaN</td>\n",
       "      <td>NaN</td>\n",
       "      <td>0</td>\n",
       "      <td>2</td>\n",
       "      <td>2006</td>\n",
       "      <td>WD</td>\n",
       "      <td>Abnorml</td>\n",
       "      <td>140000</td>\n",
       "    </tr>\n",
       "    <tr>\n",
       "      <th>4</th>\n",
       "      <td>5</td>\n",
       "      <td>60</td>\n",
       "      <td>RL</td>\n",
       "      <td>84.0</td>\n",
       "      <td>14260</td>\n",
       "      <td>Pave</td>\n",
       "      <td>NaN</td>\n",
       "      <td>IR1</td>\n",
       "      <td>Lvl</td>\n",
       "      <td>AllPub</td>\n",
       "      <td>...</td>\n",
       "      <td>0</td>\n",
       "      <td>NaN</td>\n",
       "      <td>NaN</td>\n",
       "      <td>NaN</td>\n",
       "      <td>0</td>\n",
       "      <td>12</td>\n",
       "      <td>2008</td>\n",
       "      <td>WD</td>\n",
       "      <td>Normal</td>\n",
       "      <td>250000</td>\n",
       "    </tr>\n",
       "  </tbody>\n",
       "</table>\n",
       "<p>5 rows × 81 columns</p>\n",
       "</div>"
      ],
      "text/plain": [
       "   Id  MSSubClass MSZoning  LotFrontage  LotArea Street Alley LotShape  \\\n",
       "0   1          60       RL         65.0     8450   Pave   NaN      Reg   \n",
       "1   2          20       RL         80.0     9600   Pave   NaN      Reg   \n",
       "2   3          60       RL         68.0    11250   Pave   NaN      IR1   \n",
       "3   4          70       RL         60.0     9550   Pave   NaN      IR1   \n",
       "4   5          60       RL         84.0    14260   Pave   NaN      IR1   \n",
       "\n",
       "  LandContour Utilities  ... PoolArea PoolQC Fence MiscFeature MiscVal MoSold  \\\n",
       "0         Lvl    AllPub  ...        0    NaN   NaN         NaN       0      2   \n",
       "1         Lvl    AllPub  ...        0    NaN   NaN         NaN       0      5   \n",
       "2         Lvl    AllPub  ...        0    NaN   NaN         NaN       0      9   \n",
       "3         Lvl    AllPub  ...        0    NaN   NaN         NaN       0      2   \n",
       "4         Lvl    AllPub  ...        0    NaN   NaN         NaN       0     12   \n",
       "\n",
       "  YrSold  SaleType  SaleCondition  SalePrice  \n",
       "0   2008        WD         Normal     208500  \n",
       "1   2007        WD         Normal     181500  \n",
       "2   2008        WD         Normal     223500  \n",
       "3   2006        WD        Abnorml     140000  \n",
       "4   2008        WD         Normal     250000  \n",
       "\n",
       "[5 rows x 81 columns]"
      ]
     },
     "execution_count": 458,
     "metadata": {},
     "output_type": "execute_result"
    }
   ],
   "source": [
    "import pandas as pd\n",
    "housing = pd.read_csv(\"train.csv\")\n",
    "housing.head()"
   ]
  },
  {
   "cell_type": "markdown",
   "metadata": {},
   "source": [
    "Vamos a revisar el tipo de información que contiene nuestra base."
   ]
  },
  {
   "cell_type": "code",
   "execution_count": 459,
   "metadata": {
    "scrolled": true
   },
   "outputs": [
    {
     "name": "stdout",
     "output_type": "stream",
     "text": [
      "<class 'pandas.core.frame.DataFrame'>\n",
      "RangeIndex: 1460 entries, 0 to 1459\n",
      "Data columns (total 81 columns):\n",
      "Id               1460 non-null int64\n",
      "MSSubClass       1460 non-null int64\n",
      "MSZoning         1460 non-null object\n",
      "LotFrontage      1201 non-null float64\n",
      "LotArea          1460 non-null int64\n",
      "Street           1460 non-null object\n",
      "Alley            91 non-null object\n",
      "LotShape         1460 non-null object\n",
      "LandContour      1460 non-null object\n",
      "Utilities        1460 non-null object\n",
      "LotConfig        1460 non-null object\n",
      "LandSlope        1460 non-null object\n",
      "Neighborhood     1460 non-null object\n",
      "Condition1       1460 non-null object\n",
      "Condition2       1460 non-null object\n",
      "BldgType         1460 non-null object\n",
      "HouseStyle       1460 non-null object\n",
      "OverallQual      1460 non-null int64\n",
      "OverallCond      1460 non-null int64\n",
      "YearBuilt        1460 non-null int64\n",
      "YearRemodAdd     1460 non-null int64\n",
      "RoofStyle        1460 non-null object\n",
      "RoofMatl         1460 non-null object\n",
      "Exterior1st      1460 non-null object\n",
      "Exterior2nd      1460 non-null object\n",
      "MasVnrType       1452 non-null object\n",
      "MasVnrArea       1452 non-null float64\n",
      "ExterQual        1460 non-null object\n",
      "ExterCond        1460 non-null object\n",
      "Foundation       1460 non-null object\n",
      "BsmtQual         1423 non-null object\n",
      "BsmtCond         1423 non-null object\n",
      "BsmtExposure     1422 non-null object\n",
      "BsmtFinType1     1423 non-null object\n",
      "BsmtFinSF1       1460 non-null int64\n",
      "BsmtFinType2     1422 non-null object\n",
      "BsmtFinSF2       1460 non-null int64\n",
      "BsmtUnfSF        1460 non-null int64\n",
      "TotalBsmtSF      1460 non-null int64\n",
      "Heating          1460 non-null object\n",
      "HeatingQC        1460 non-null object\n",
      "CentralAir       1460 non-null object\n",
      "Electrical       1459 non-null object\n",
      "1stFlrSF         1460 non-null int64\n",
      "2ndFlrSF         1460 non-null int64\n",
      "LowQualFinSF     1460 non-null int64\n",
      "GrLivArea        1460 non-null int64\n",
      "BsmtFullBath     1460 non-null int64\n",
      "BsmtHalfBath     1460 non-null int64\n",
      "FullBath         1460 non-null int64\n",
      "HalfBath         1460 non-null int64\n",
      "BedroomAbvGr     1460 non-null int64\n",
      "KitchenAbvGr     1460 non-null int64\n",
      "KitchenQual      1460 non-null object\n",
      "TotRmsAbvGrd     1460 non-null int64\n",
      "Functional       1460 non-null object\n",
      "Fireplaces       1460 non-null int64\n",
      "FireplaceQu      770 non-null object\n",
      "GarageType       1379 non-null object\n",
      "GarageYrBlt      1379 non-null float64\n",
      "GarageFinish     1379 non-null object\n",
      "GarageCars       1460 non-null int64\n",
      "GarageArea       1460 non-null int64\n",
      "GarageQual       1379 non-null object\n",
      "GarageCond       1379 non-null object\n",
      "PavedDrive       1460 non-null object\n",
      "WoodDeckSF       1460 non-null int64\n",
      "OpenPorchSF      1460 non-null int64\n",
      "EnclosedPorch    1460 non-null int64\n",
      "3SsnPorch        1460 non-null int64\n",
      "ScreenPorch      1460 non-null int64\n",
      "PoolArea         1460 non-null int64\n",
      "PoolQC           7 non-null object\n",
      "Fence            281 non-null object\n",
      "MiscFeature      54 non-null object\n",
      "MiscVal          1460 non-null int64\n",
      "MoSold           1460 non-null int64\n",
      "YrSold           1460 non-null int64\n",
      "SaleType         1460 non-null object\n",
      "SaleCondition    1460 non-null object\n",
      "SalePrice        1460 non-null int64\n",
      "dtypes: float64(3), int64(35), object(43)\n",
      "memory usage: 924.0+ KB\n",
      "None\n"
     ]
    }
   ],
   "source": [
    "print(housing.info())"
   ]
  },
  {
   "cell_type": "markdown",
   "metadata": {},
   "source": [
    "Existen columnas como **\"Alley\", \"PoolQC\", \"Fence\", \"FireplaceQu\"y \"MiscFeature\"** que tienen menos de la mitad del total de regitros (1460) registros, por lo que no serán contempladas en el modelo. \n",
    "\n",
    "**De igual forma existen muchas columnas del tipo object**, las cuales contienen variables del tipo categòricas a las cuales se les debe aplicar una transformación para que puedan ser consideradas dentro del modelo."
   ]
  },
  {
   "cell_type": "code",
   "execution_count": 460,
   "metadata": {},
   "outputs": [
    {
     "data": {
      "text/html": [
       "<div>\n",
       "<style scoped>\n",
       "    .dataframe tbody tr th:only-of-type {\n",
       "        vertical-align: middle;\n",
       "    }\n",
       "\n",
       "    .dataframe tbody tr th {\n",
       "        vertical-align: top;\n",
       "    }\n",
       "\n",
       "    .dataframe thead th {\n",
       "        text-align: right;\n",
       "    }\n",
       "</style>\n",
       "<table border=\"1\" class=\"dataframe\">\n",
       "  <thead>\n",
       "    <tr style=\"text-align: right;\">\n",
       "      <th></th>\n",
       "      <th>Alley</th>\n",
       "      <th>PoolQC</th>\n",
       "      <th>Fence</th>\n",
       "      <th>FireplaceQu</th>\n",
       "      <th>MiscFeature</th>\n",
       "    </tr>\n",
       "  </thead>\n",
       "  <tbody>\n",
       "    <tr>\n",
       "      <th>0</th>\n",
       "      <td>NaN</td>\n",
       "      <td>NaN</td>\n",
       "      <td>NaN</td>\n",
       "      <td>NaN</td>\n",
       "      <td>NaN</td>\n",
       "    </tr>\n",
       "    <tr>\n",
       "      <th>1</th>\n",
       "      <td>NaN</td>\n",
       "      <td>NaN</td>\n",
       "      <td>NaN</td>\n",
       "      <td>TA</td>\n",
       "      <td>NaN</td>\n",
       "    </tr>\n",
       "    <tr>\n",
       "      <th>2</th>\n",
       "      <td>NaN</td>\n",
       "      <td>NaN</td>\n",
       "      <td>NaN</td>\n",
       "      <td>TA</td>\n",
       "      <td>NaN</td>\n",
       "    </tr>\n",
       "    <tr>\n",
       "      <th>3</th>\n",
       "      <td>NaN</td>\n",
       "      <td>NaN</td>\n",
       "      <td>NaN</td>\n",
       "      <td>Gd</td>\n",
       "      <td>NaN</td>\n",
       "    </tr>\n",
       "    <tr>\n",
       "      <th>4</th>\n",
       "      <td>NaN</td>\n",
       "      <td>NaN</td>\n",
       "      <td>NaN</td>\n",
       "      <td>TA</td>\n",
       "      <td>NaN</td>\n",
       "    </tr>\n",
       "  </tbody>\n",
       "</table>\n",
       "</div>"
      ],
      "text/plain": [
       "  Alley PoolQC Fence FireplaceQu MiscFeature\n",
       "0   NaN    NaN   NaN         NaN         NaN\n",
       "1   NaN    NaN   NaN          TA         NaN\n",
       "2   NaN    NaN   NaN          TA         NaN\n",
       "3   NaN    NaN   NaN          Gd         NaN\n",
       "4   NaN    NaN   NaN          TA         NaN"
      ]
     },
     "execution_count": 460,
     "metadata": {},
     "output_type": "execute_result"
    }
   ],
   "source": [
    "housing[[\"Alley\", \"PoolQC\", \"Fence\", \"FireplaceQu\",\"MiscFeature\"]].head()"
   ]
  },
  {
   "cell_type": "markdown",
   "metadata": {},
   "source": [
    "Vamos a guardar en una lista, todas las variables categóricas de la base de datos."
   ]
  },
  {
   "cell_type": "code",
   "execution_count": 461,
   "metadata": {},
   "outputs": [
    {
     "data": {
      "text/plain": [
       "['MSZoning',\n",
       " 'Street',\n",
       " 'LotShape',\n",
       " 'LandContour',\n",
       " 'Utilities',\n",
       " 'LotConfig',\n",
       " 'LandSlope',\n",
       " 'Neighborhood',\n",
       " 'Condition1',\n",
       " 'Condition2',\n",
       " 'BldgType',\n",
       " 'HouseStyle',\n",
       " 'RoofStyle',\n",
       " 'RoofMatl',\n",
       " 'Exterior1st',\n",
       " 'Exterior2nd',\n",
       " 'MasVnrType',\n",
       " 'ExterQual',\n",
       " 'ExterCond',\n",
       " 'Foundation',\n",
       " 'BsmtQual',\n",
       " 'BsmtCond',\n",
       " 'BsmtExposure',\n",
       " 'BsmtFinType1',\n",
       " 'BsmtFinType2',\n",
       " 'Heating',\n",
       " 'HeatingQC',\n",
       " 'CentralAir',\n",
       " 'Electrical',\n",
       " 'KitchenQual',\n",
       " 'Functional',\n",
       " 'GarageType',\n",
       " 'GarageFinish',\n",
       " 'GarageQual',\n",
       " 'GarageCond',\n",
       " 'PavedDrive',\n",
       " 'SaleType',\n",
       " 'SaleCondition']"
      ]
     },
     "execution_count": 461,
     "metadata": {},
     "output_type": "execute_result"
    }
   ],
   "source": [
    "variables_categoricas = list(housing.select_dtypes(include='object').columns.values)\n",
    "\n",
    "for i in [\"Alley\", \"PoolQC\", \"Fence\", \"FireplaceQu\",\"MiscFeature\"]:\n",
    "    variables_categoricas.remove(i)\n",
    "\n",
    "variables_categoricas"
   ]
  },
  {
   "cell_type": "markdown",
   "metadata": {},
   "source": [
    "**Como vimos anteriormente, existen muchos datos del tipo \"NaN\", loc suales hay que sustituir en la base mediante**  `backfill`, **utilizando el método** `pd.fillna`."
   ]
  },
  {
   "cell_type": "code",
   "execution_count": 462,
   "metadata": {},
   "outputs": [],
   "source": [
    "housing = housing.fillna(method=\"backfill\")"
   ]
  },
  {
   "cell_type": "markdown",
   "metadata": {},
   "source": [
    "**Ahora bien, como primer paso debemos generar los sets de entrenamiento y evaluación, para lo cual debemos importar la librería correspondiente y eliminar de los sets de entrenamiento la variable que deseamos estimar**"
   ]
  },
  {
   "cell_type": "code",
   "execution_count": 593,
   "metadata": {},
   "outputs": [],
   "source": [
    "from sklearn.model_selection import train_test_split\n",
    "train, test = train_test_split(housing, test_size=0.2, random_state=2718)\n",
    "xtrain, ytrain = train.drop(\"SalePrice\", axis=1), train[\"SalePrice\"]\n",
    "xtest, ytest =test.drop(\"SalePrice\", axis=1), test[\"SalePrice\"]"
   ]
  },
  {
   "cell_type": "markdown",
   "metadata": {},
   "source": [
    "Como bien se mencionó anteriormente, existen variables que son  tipo `object`, las cuales deben ser tranformadas a valores numéricos.\n",
    "\n",
    "Esto se puede realizar mediante la aplicación de un `OneHotEncode`; sin embargo, se tiene un problema, el cual consuste en que si dentro del `train set`existe alguna categoría (valor categorico) que no existe en el `test set`, obtendremos un error.\n",
    "\n",
    "Por lo cual debemos incluir dentro del paramtero `categories`una array que contenga todas las categorìas de cada columna, de tal forma que:\n",
    "\n",
    "$$ Categorias[0]\\;contiene\\;el\\;listado\\;de\\;categorías\\;correspondientes\\;a\\;la\\;columna\\;0$$\n",
    "\n",
    "Por lo que debemos generar ese listado:"
   ]
  },
  {
   "cell_type": "code",
   "execution_count": 450,
   "metadata": {},
   "outputs": [],
   "source": [
    "categorias = []\n",
    "\n",
    "for j in variables_categoricas:\n",
    "    categorias.append(list(housing[j].unique()))"
   ]
  },
  {
   "cell_type": "markdown",
   "metadata": {},
   "source": [
    "Como ejemeplo, se ilustra el listado de categorìas para las columnas 1,2 y 3:\n",
    "\n",
    "**categorias[0:3] =  `[  ['RL', 'RM', 'C (all)', 'FV', 'RH'],   ['Pave', 'Grvl'],  ['Reg', 'IR1', 'IR2', 'IR3']  `'**"
   ]
  },
  {
   "cell_type": "markdown",
   "metadata": {},
   "source": [
    "En este momento poemos generar un primer modelo en el cual, consideraremos todas las variables que existen en el listado. Para ello debemos importar las siguientes librerìas que nos serviràn para cada uno de los modelos a generar."
   ]
  },
  {
   "cell_type": "code",
   "execution_count": 454,
   "metadata": {},
   "outputs": [],
   "source": [
    "import numpy as np\n",
    "from sklearn.pipeline import Pipeline\n",
    "from sklearn.tree import DecisionTreeClassifier, plot_tree\n",
    "from sklearn.compose import ColumnTransformer, make_column_selector\n",
    "from sklearn.preprocessing import OneHotEncoder, StandardScaler, Normalizer\n",
    "from sklearn.ensemble import RandomForestRegressor\n",
    "from sklearn.impute import SimpleImputer\n",
    "from sklearn.model_selection import cross_validate,GridSearchCV, cross_val_score"
   ]
  },
  {
   "cell_type": "markdown",
   "metadata": {},
   "source": [
    "<h2 style=\"color:Darkblue\">Primer modelo: Random Forest Regressor <h2>\n",
    " \n",
    "**Utilizando Grid Search para encontrar los parámetros óptimos**"
   ]
  },
  {
   "cell_type": "code",
   "execution_count": 202,
   "metadata": {},
   "outputs": [],
   "source": [
    "column_selector_primer_modelo = ColumnTransformer(\n",
    "    [(\"Encoder\", OneHotEncoder(categories = categorias,sparse=False), variables_categoricas),\n",
    "     (\"Imputer\", SimpleImputer(missing_values = np.nan, strategy = \"most_frequent\"), make_column_selector(dtype_include=[\"float\",\"integer\"])),\n",
    "     (\"Scaler\", StandardScaler(),make_column_selector(dtype_include=[\"integer\"])), \n",
    "     (\"Normalizer\",Normalizer(),make_column_selector(dtype_include=[\"integer\"]))\n",
    "    ]\n",
    ")\n",
    "    \n",
    "pipeline_primer_modelo = Pipeline([ \n",
    "    (\"select_cols\", column_selector_primer_modelo), \n",
    "    (\"random_forest\",  RandomForestRegressor(max_depth=None, criterion='mse',n_jobs=-1,random_state=314)) \n",
    "])\n",
    "\n",
    "grid_search_cv = GridSearchCV(estimator=pipeline_primer_modelo,\n",
    "                           param_grid = {'random_forest__max_depth':[4,6,10]},\n",
    "                           cv=5, scoring = 'neg_mean_squared_error',\n",
    "                           verbose = 0,\n",
    "                           return_train_score=True)\n",
    "\n",
    "grid_search_cv.fit(xtrain,ytrain)\n",
    "\n",
    "\n",
    "cv_primer_modelo = cross_validate(grid_search_cv.best_estimator_, xtrain, ytrain, cv=5, scoring=[\"r2\", \"neg_mean_absolute_error\"])\n",
    "R2_primer_modelo = cv_primer_modelo[\"test_r2\"]\n",
    "mae_primer_modelo = -cv_primer_modelo[\"test_neg_mean_absolute_error\"]"
   ]
  },
  {
   "cell_type": "code",
   "execution_count": 456,
   "metadata": {
    "scrolled": true
   },
   "outputs": [
    {
     "name": "stdout",
     "output_type": "stream",
     "text": [
      "R2 : [0.89733357 0.85646738 0.87860429 0.77440915 0.81348319]\n",
      "Promedio R2 : 0.8440595172874923\n",
      "MAE : [17362.85293678 18478.02503196 17020.06580387 22193.82886042\n",
      " 19472.5486566 ]\n",
      "Promedio MAE : 18905.46425792461\n"
     ]
    }
   ],
   "source": [
    "print(f\"R2 : {R2_primer_modelo}\")\n",
    "print(f\"Promedio R2 : {R2_primer_modelo.mean()}\")\n",
    "print(f\"MAE : {mae_primer_modelo}\")\n",
    "print(f\"Promedio MAE : {mae_primer_modelo.mean()}\")"
   ]
  },
  {
   "cell_type": "markdown",
   "metadata": {},
   "source": [
    "**Los resultados de las mètricas R2 y MAE son los siguientes:**\n",
    "\n",
    "**R2**: `[0.89733357, 0.85646738, 0.87860429, 0.77440915, 0.81348319]`\n",
    "\n",
    "**MAE** :`[17362.85293678, 18478.02503196, 17020.06580387, 22193.82886042, 19472.5486566]`\n",
    "\n",
    "\n",
    "\n",
    "**Promedio R2** : `0.844059517287492`\n",
    "\n",
    "\n",
    "**Promedio MAE** :`18905.4642579246`"
   ]
  },
  {
   "cell_type": "markdown",
   "metadata": {},
   "source": [
    "<h2 style=\"color:Darkblue\">Segundo modelo: Random Forest Regressor <h2>\n",
    " \n",
    "Utilizando Grid Search para encontrar los parámetros óptimos y elimando aquellas variables categóricas que no representen una correlación fuerte con SalePrice."
   ]
  },
  {
   "cell_type": "markdown",
   "metadata": {},
   "source": [
    "Nos interesa generar un modelo que logre estimar el valor del precio de venta de las casas (\"Sale Price\"), por lo que una forma de identificar cuales son las variables categóricas que tienen una mayor relaciòn, es generando una **Matriz de correlaciones**.\n",
    "\n",
    "Sin embargo para poder generar esta matriz, debemos aplicar la misma transformación que aplicamos en el `primer modelo`pero aplicada a nuestra base, por lo que primero vamos a generar una copia de la base de datos y a transformar la base:"
   ]
  },
  {
   "cell_type": "code",
   "execution_count": 463,
   "metadata": {},
   "outputs": [],
   "source": [
    "housing2 = housing.copy()\n",
    "\n",
    "OHE = OneHotEncoder()\n",
    "\n",
    "for i in variables_categoricas:\n",
    "    housing2[i] = OHE.fit_transform(housing2[[i]]).toarray()\n"
   ]
  },
  {
   "cell_type": "markdown",
   "metadata": {},
   "source": [
    "**Podemos observar que los valores de las variables categóricas que nos interesan ahora son numéricos:**"
   ]
  },
  {
   "cell_type": "code",
   "execution_count": 464,
   "metadata": {},
   "outputs": [
    {
     "data": {
      "text/html": [
       "<div>\n",
       "<style scoped>\n",
       "    .dataframe tbody tr th:only-of-type {\n",
       "        vertical-align: middle;\n",
       "    }\n",
       "\n",
       "    .dataframe tbody tr th {\n",
       "        vertical-align: top;\n",
       "    }\n",
       "\n",
       "    .dataframe thead th {\n",
       "        text-align: right;\n",
       "    }\n",
       "</style>\n",
       "<table border=\"1\" class=\"dataframe\">\n",
       "  <thead>\n",
       "    <tr style=\"text-align: right;\">\n",
       "      <th></th>\n",
       "      <th>Id</th>\n",
       "      <th>MSSubClass</th>\n",
       "      <th>MSZoning</th>\n",
       "      <th>LotFrontage</th>\n",
       "      <th>LotArea</th>\n",
       "      <th>Street</th>\n",
       "      <th>Alley</th>\n",
       "      <th>LotShape</th>\n",
       "      <th>LandContour</th>\n",
       "      <th>Utilities</th>\n",
       "      <th>...</th>\n",
       "      <th>PoolArea</th>\n",
       "      <th>PoolQC</th>\n",
       "      <th>Fence</th>\n",
       "      <th>MiscFeature</th>\n",
       "      <th>MiscVal</th>\n",
       "      <th>MoSold</th>\n",
       "      <th>YrSold</th>\n",
       "      <th>SaleType</th>\n",
       "      <th>SaleCondition</th>\n",
       "      <th>SalePrice</th>\n",
       "    </tr>\n",
       "  </thead>\n",
       "  <tbody>\n",
       "    <tr>\n",
       "      <th>0</th>\n",
       "      <td>1</td>\n",
       "      <td>60</td>\n",
       "      <td>0.0</td>\n",
       "      <td>65.0</td>\n",
       "      <td>8450</td>\n",
       "      <td>0.0</td>\n",
       "      <td>Grvl</td>\n",
       "      <td>0.0</td>\n",
       "      <td>0.0</td>\n",
       "      <td>1.0</td>\n",
       "      <td>...</td>\n",
       "      <td>0</td>\n",
       "      <td>Ex</td>\n",
       "      <td>MnPrv</td>\n",
       "      <td>Shed</td>\n",
       "      <td>0</td>\n",
       "      <td>2</td>\n",
       "      <td>2008</td>\n",
       "      <td>0.0</td>\n",
       "      <td>0.0</td>\n",
       "      <td>208500</td>\n",
       "    </tr>\n",
       "    <tr>\n",
       "      <th>1</th>\n",
       "      <td>2</td>\n",
       "      <td>20</td>\n",
       "      <td>0.0</td>\n",
       "      <td>80.0</td>\n",
       "      <td>9600</td>\n",
       "      <td>0.0</td>\n",
       "      <td>Grvl</td>\n",
       "      <td>0.0</td>\n",
       "      <td>0.0</td>\n",
       "      <td>1.0</td>\n",
       "      <td>...</td>\n",
       "      <td>0</td>\n",
       "      <td>Ex</td>\n",
       "      <td>MnPrv</td>\n",
       "      <td>Shed</td>\n",
       "      <td>0</td>\n",
       "      <td>5</td>\n",
       "      <td>2007</td>\n",
       "      <td>0.0</td>\n",
       "      <td>0.0</td>\n",
       "      <td>181500</td>\n",
       "    </tr>\n",
       "    <tr>\n",
       "      <th>2</th>\n",
       "      <td>3</td>\n",
       "      <td>60</td>\n",
       "      <td>0.0</td>\n",
       "      <td>68.0</td>\n",
       "      <td>11250</td>\n",
       "      <td>0.0</td>\n",
       "      <td>Grvl</td>\n",
       "      <td>1.0</td>\n",
       "      <td>0.0</td>\n",
       "      <td>1.0</td>\n",
       "      <td>...</td>\n",
       "      <td>0</td>\n",
       "      <td>Ex</td>\n",
       "      <td>MnPrv</td>\n",
       "      <td>Shed</td>\n",
       "      <td>0</td>\n",
       "      <td>9</td>\n",
       "      <td>2008</td>\n",
       "      <td>0.0</td>\n",
       "      <td>0.0</td>\n",
       "      <td>223500</td>\n",
       "    </tr>\n",
       "    <tr>\n",
       "      <th>3</th>\n",
       "      <td>4</td>\n",
       "      <td>70</td>\n",
       "      <td>0.0</td>\n",
       "      <td>60.0</td>\n",
       "      <td>9550</td>\n",
       "      <td>0.0</td>\n",
       "      <td>Grvl</td>\n",
       "      <td>1.0</td>\n",
       "      <td>0.0</td>\n",
       "      <td>1.0</td>\n",
       "      <td>...</td>\n",
       "      <td>0</td>\n",
       "      <td>Ex</td>\n",
       "      <td>MnPrv</td>\n",
       "      <td>Shed</td>\n",
       "      <td>0</td>\n",
       "      <td>2</td>\n",
       "      <td>2006</td>\n",
       "      <td>0.0</td>\n",
       "      <td>1.0</td>\n",
       "      <td>140000</td>\n",
       "    </tr>\n",
       "    <tr>\n",
       "      <th>4</th>\n",
       "      <td>5</td>\n",
       "      <td>60</td>\n",
       "      <td>0.0</td>\n",
       "      <td>84.0</td>\n",
       "      <td>14260</td>\n",
       "      <td>0.0</td>\n",
       "      <td>Grvl</td>\n",
       "      <td>1.0</td>\n",
       "      <td>0.0</td>\n",
       "      <td>1.0</td>\n",
       "      <td>...</td>\n",
       "      <td>0</td>\n",
       "      <td>Ex</td>\n",
       "      <td>MnPrv</td>\n",
       "      <td>Shed</td>\n",
       "      <td>0</td>\n",
       "      <td>12</td>\n",
       "      <td>2008</td>\n",
       "      <td>0.0</td>\n",
       "      <td>0.0</td>\n",
       "      <td>250000</td>\n",
       "    </tr>\n",
       "  </tbody>\n",
       "</table>\n",
       "<p>5 rows × 81 columns</p>\n",
       "</div>"
      ],
      "text/plain": [
       "   Id  MSSubClass  MSZoning  LotFrontage  LotArea  Street Alley  LotShape  \\\n",
       "0   1          60       0.0         65.0     8450     0.0  Grvl       0.0   \n",
       "1   2          20       0.0         80.0     9600     0.0  Grvl       0.0   \n",
       "2   3          60       0.0         68.0    11250     0.0  Grvl       1.0   \n",
       "3   4          70       0.0         60.0     9550     0.0  Grvl       1.0   \n",
       "4   5          60       0.0         84.0    14260     0.0  Grvl       1.0   \n",
       "\n",
       "   LandContour  Utilities  ...  PoolArea  PoolQC  Fence  MiscFeature  MiscVal  \\\n",
       "0          0.0        1.0  ...         0      Ex  MnPrv         Shed        0   \n",
       "1          0.0        1.0  ...         0      Ex  MnPrv         Shed        0   \n",
       "2          0.0        1.0  ...         0      Ex  MnPrv         Shed        0   \n",
       "3          0.0        1.0  ...         0      Ex  MnPrv         Shed        0   \n",
       "4          0.0        1.0  ...         0      Ex  MnPrv         Shed        0   \n",
       "\n",
       "   MoSold  YrSold  SaleType  SaleCondition  SalePrice  \n",
       "0       2    2008       0.0            0.0     208500  \n",
       "1       5    2007       0.0            0.0     181500  \n",
       "2       9    2008       0.0            0.0     223500  \n",
       "3       2    2006       0.0            1.0     140000  \n",
       "4      12    2008       0.0            0.0     250000  \n",
       "\n",
       "[5 rows x 81 columns]"
      ]
     },
     "execution_count": 464,
     "metadata": {},
     "output_type": "execute_result"
    }
   ],
   "source": [
    "housing2.head()"
   ]
  },
  {
   "cell_type": "markdown",
   "metadata": {},
   "source": [
    "Vamos a generar nuestra matriz de correlación, trasladarla a un `PandasDataFrame`para poder hacer el filtrado de las variables categóricas para analizar cuales están relacionadas fuertemente con la variable \"SalePrice\"."
   ]
  },
  {
   "cell_type": "code",
   "execution_count": 487,
   "metadata": {},
   "outputs": [
    {
     "data": {
      "text/html": [
       "<div>\n",
       "<style scoped>\n",
       "    .dataframe tbody tr th:only-of-type {\n",
       "        vertical-align: middle;\n",
       "    }\n",
       "\n",
       "    .dataframe tbody tr th {\n",
       "        vertical-align: top;\n",
       "    }\n",
       "\n",
       "    .dataframe thead th {\n",
       "        text-align: right;\n",
       "    }\n",
       "</style>\n",
       "<table border=\"1\" class=\"dataframe\">\n",
       "  <thead>\n",
       "    <tr style=\"text-align: right;\">\n",
       "      <th></th>\n",
       "      <th>SalePrice</th>\n",
       "    </tr>\n",
       "  </thead>\n",
       "  <tbody>\n",
       "    <tr>\n",
       "      <th>CentralAir</th>\n",
       "      <td>-0.251328</td>\n",
       "    </tr>\n",
       "    <tr>\n",
       "      <th>PavedDrive</th>\n",
       "      <td>-0.212630</td>\n",
       "    </tr>\n",
       "    <tr>\n",
       "      <th>Foundation</th>\n",
       "      <td>-0.204117</td>\n",
       "    </tr>\n",
       "    <tr>\n",
       "      <th>Electrical</th>\n",
       "      <td>-0.193978</td>\n",
       "    </tr>\n",
       "    <tr>\n",
       "      <th>HouseStyle</th>\n",
       "      <td>-0.163466</td>\n",
       "    </tr>\n",
       "    <tr>\n",
       "      <th>BsmtCond</th>\n",
       "      <td>-0.137981</td>\n",
       "    </tr>\n",
       "    <tr>\n",
       "      <th>SaleCondition</th>\n",
       "      <td>-0.118069</td>\n",
       "    </tr>\n",
       "    <tr>\n",
       "      <th>MSZoning</th>\n",
       "      <td>-0.111257</td>\n",
       "    </tr>\n",
       "    <tr>\n",
       "      <th>Exterior1st</th>\n",
       "      <td>-0.109126</td>\n",
       "    </tr>\n",
       "    <tr>\n",
       "      <th>Condition1</th>\n",
       "      <td>-0.106401</td>\n",
       "    </tr>\n",
       "    <tr>\n",
       "      <th>BsmtFinType1</th>\n",
       "      <td>-0.104062</td>\n",
       "    </tr>\n",
       "    <tr>\n",
       "      <th>LandContour</th>\n",
       "      <td>-0.101124</td>\n",
       "    </tr>\n",
       "    <tr>\n",
       "      <th>Exterior2nd</th>\n",
       "      <td>-0.099220</td>\n",
       "    </tr>\n",
       "    <tr>\n",
       "      <th>SaleType</th>\n",
       "      <td>-0.081047</td>\n",
       "    </tr>\n",
       "    <tr>\n",
       "      <th>LandSlope</th>\n",
       "      <td>-0.051116</td>\n",
       "    </tr>\n",
       "    <tr>\n",
       "      <th>MasVnrType</th>\n",
       "      <td>-0.044394</td>\n",
       "    </tr>\n",
       "    <tr>\n",
       "      <th>Street</th>\n",
       "      <td>-0.041036</td>\n",
       "    </tr>\n",
       "    <tr>\n",
       "      <th>Heating</th>\n",
       "      <td>-0.035742</td>\n",
       "    </tr>\n",
       "    <tr>\n",
       "      <th>Condition2</th>\n",
       "      <td>-0.034708</td>\n",
       "    </tr>\n",
       "    <tr>\n",
       "      <th>Functional</th>\n",
       "      <td>-0.033420</td>\n",
       "    </tr>\n",
       "    <tr>\n",
       "      <th>GarageCond</th>\n",
       "      <td>-0.026546</td>\n",
       "    </tr>\n",
       "    <tr>\n",
       "      <th>GarageType</th>\n",
       "      <td>-0.023974</td>\n",
       "    </tr>\n",
       "    <tr>\n",
       "      <th>RoofMatl</th>\n",
       "      <td>-0.006897</td>\n",
       "    </tr>\n",
       "    <tr>\n",
       "      <th>LotConfig</th>\n",
       "      <td>0.004145</td>\n",
       "    </tr>\n",
       "    <tr>\n",
       "      <th>ExterCond</th>\n",
       "      <td>0.011663</td>\n",
       "    </tr>\n",
       "    <tr>\n",
       "      <th>Utilities</th>\n",
       "      <td>0.014314</td>\n",
       "    </tr>\n",
       "    <tr>\n",
       "      <th>RoofStyle</th>\n",
       "      <td>0.016433</td>\n",
       "    </tr>\n",
       "    <tr>\n",
       "      <th>Neighborhood</th>\n",
       "      <td>0.019066</td>\n",
       "    </tr>\n",
       "    <tr>\n",
       "      <th>GarageQual</th>\n",
       "      <td>0.034328</td>\n",
       "    </tr>\n",
       "    <tr>\n",
       "      <th>BsmtFinType2</th>\n",
       "      <td>0.034686</td>\n",
       "    </tr>\n",
       "    <tr>\n",
       "      <th>BsmtExposure</th>\n",
       "      <td>0.125571</td>\n",
       "    </tr>\n",
       "    <tr>\n",
       "      <th>BldgType</th>\n",
       "      <td>0.137483</td>\n",
       "    </tr>\n",
       "    <tr>\n",
       "      <th>LotShape</th>\n",
       "      <td>0.223284</td>\n",
       "    </tr>\n",
       "    <tr>\n",
       "      <th>GarageFinish</th>\n",
       "      <td>0.384460</td>\n",
       "    </tr>\n",
       "    <tr>\n",
       "      <th>HeatingQC</th>\n",
       "      <td>0.434543</td>\n",
       "    </tr>\n",
       "    <tr>\n",
       "      <th>ExterQual</th>\n",
       "      <td>0.451164</td>\n",
       "    </tr>\n",
       "    <tr>\n",
       "      <th>KitchenQual</th>\n",
       "      <td>0.504094</td>\n",
       "    </tr>\n",
       "    <tr>\n",
       "      <th>BsmtQual</th>\n",
       "      <td>0.522221</td>\n",
       "    </tr>\n",
       "  </tbody>\n",
       "</table>\n",
       "</div>"
      ],
      "text/plain": [
       "               SalePrice\n",
       "CentralAir     -0.251328\n",
       "PavedDrive     -0.212630\n",
       "Foundation     -0.204117\n",
       "Electrical     -0.193978\n",
       "HouseStyle     -0.163466\n",
       "BsmtCond       -0.137981\n",
       "SaleCondition  -0.118069\n",
       "MSZoning       -0.111257\n",
       "Exterior1st    -0.109126\n",
       "Condition1     -0.106401\n",
       "BsmtFinType1   -0.104062\n",
       "LandContour    -0.101124\n",
       "Exterior2nd    -0.099220\n",
       "SaleType       -0.081047\n",
       "LandSlope      -0.051116\n",
       "MasVnrType     -0.044394\n",
       "Street         -0.041036\n",
       "Heating        -0.035742\n",
       "Condition2     -0.034708\n",
       "Functional     -0.033420\n",
       "GarageCond     -0.026546\n",
       "GarageType     -0.023974\n",
       "RoofMatl       -0.006897\n",
       "LotConfig       0.004145\n",
       "ExterCond       0.011663\n",
       "Utilities       0.014314\n",
       "RoofStyle       0.016433\n",
       "Neighborhood    0.019066\n",
       "GarageQual      0.034328\n",
       "BsmtFinType2    0.034686\n",
       "BsmtExposure    0.125571\n",
       "BldgType        0.137483\n",
       "LotShape        0.223284\n",
       "GarageFinish    0.384460\n",
       "HeatingQC       0.434543\n",
       "ExterQual       0.451164\n",
       "KitchenQual     0.504094\n",
       "BsmtQual        0.522221"
      ]
     },
     "execution_count": 487,
     "metadata": {},
     "output_type": "execute_result"
    }
   ],
   "source": [
    "correlation_matrix = pd.DataFrame(housing2.corr()[\"SalePrice\"])\n",
    "correlation_matrix = correlation_matrix.loc[variables_categoricas].sort_values(by=\"SalePrice\",ascending=True)\n",
    "correlation_matrix.tail(100)\n"
   ]
  },
  {
   "cell_type": "markdown",
   "metadata": {},
   "source": [
    "Probemos eliminando del modelos, aquellas variables cuya correlación sea menor a 0. Para ello guardaremos las nuevas variables categóricas de interés en una nueva lista, así como las categorías de cada una:"
   ]
  },
  {
   "cell_type": "code",
   "execution_count": 667,
   "metadata": {},
   "outputs": [],
   "source": [
    "variables_categoricas2  = list(correlation_matrix[(correlation_matrix[\"SalePrice\"]>0)|(correlation_matrix[\"SalePrice\"]<(-0.2))].index)\n",
    "\n",
    "categorias2 = []\n",
    "\n",
    "for j in variables_categoricas2:\n",
    "    categorias2.append(list(housing[j].unique()))"
   ]
  },
  {
   "cell_type": "markdown",
   "metadata": {},
   "source": [
    "A continuación se presentan las nuevas variables categóricas de interés y las categorías de cada una:"
   ]
  },
  {
   "cell_type": "code",
   "execution_count": 668,
   "metadata": {},
   "outputs": [
    {
     "data": {
      "text/html": [
       "<div>\n",
       "<style scoped>\n",
       "    .dataframe tbody tr th:only-of-type {\n",
       "        vertical-align: middle;\n",
       "    }\n",
       "\n",
       "    .dataframe tbody tr th {\n",
       "        vertical-align: top;\n",
       "    }\n",
       "\n",
       "    .dataframe thead th {\n",
       "        text-align: right;\n",
       "    }\n",
       "</style>\n",
       "<table border=\"1\" class=\"dataframe\">\n",
       "  <thead>\n",
       "    <tr style=\"text-align: right;\">\n",
       "      <th></th>\n",
       "      <th>CentralAir</th>\n",
       "      <th>PavedDrive</th>\n",
       "      <th>Foundation</th>\n",
       "      <th>LotConfig</th>\n",
       "      <th>ExterCond</th>\n",
       "      <th>Utilities</th>\n",
       "      <th>RoofStyle</th>\n",
       "      <th>Neighborhood</th>\n",
       "      <th>GarageQual</th>\n",
       "      <th>BsmtFinType2</th>\n",
       "      <th>BsmtExposure</th>\n",
       "      <th>BldgType</th>\n",
       "      <th>LotShape</th>\n",
       "      <th>GarageFinish</th>\n",
       "      <th>HeatingQC</th>\n",
       "      <th>ExterQual</th>\n",
       "      <th>KitchenQual</th>\n",
       "      <th>BsmtQual</th>\n",
       "    </tr>\n",
       "  </thead>\n",
       "  <tbody>\n",
       "    <tr>\n",
       "      <th>0</th>\n",
       "      <td>Y</td>\n",
       "      <td>Y</td>\n",
       "      <td>PConc</td>\n",
       "      <td>Inside</td>\n",
       "      <td>TA</td>\n",
       "      <td>AllPub</td>\n",
       "      <td>Gable</td>\n",
       "      <td>CollgCr</td>\n",
       "      <td>TA</td>\n",
       "      <td>Unf</td>\n",
       "      <td>No</td>\n",
       "      <td>1Fam</td>\n",
       "      <td>Reg</td>\n",
       "      <td>RFn</td>\n",
       "      <td>Ex</td>\n",
       "      <td>Gd</td>\n",
       "      <td>Gd</td>\n",
       "      <td>Gd</td>\n",
       "    </tr>\n",
       "    <tr>\n",
       "      <th>1</th>\n",
       "      <td>Y</td>\n",
       "      <td>Y</td>\n",
       "      <td>CBlock</td>\n",
       "      <td>FR2</td>\n",
       "      <td>TA</td>\n",
       "      <td>AllPub</td>\n",
       "      <td>Gable</td>\n",
       "      <td>Veenker</td>\n",
       "      <td>TA</td>\n",
       "      <td>Unf</td>\n",
       "      <td>Gd</td>\n",
       "      <td>1Fam</td>\n",
       "      <td>Reg</td>\n",
       "      <td>RFn</td>\n",
       "      <td>Ex</td>\n",
       "      <td>TA</td>\n",
       "      <td>TA</td>\n",
       "      <td>Gd</td>\n",
       "    </tr>\n",
       "    <tr>\n",
       "      <th>2</th>\n",
       "      <td>Y</td>\n",
       "      <td>Y</td>\n",
       "      <td>PConc</td>\n",
       "      <td>Inside</td>\n",
       "      <td>TA</td>\n",
       "      <td>AllPub</td>\n",
       "      <td>Gable</td>\n",
       "      <td>CollgCr</td>\n",
       "      <td>TA</td>\n",
       "      <td>Unf</td>\n",
       "      <td>Mn</td>\n",
       "      <td>1Fam</td>\n",
       "      <td>IR1</td>\n",
       "      <td>RFn</td>\n",
       "      <td>Ex</td>\n",
       "      <td>Gd</td>\n",
       "      <td>Gd</td>\n",
       "      <td>Gd</td>\n",
       "    </tr>\n",
       "    <tr>\n",
       "      <th>3</th>\n",
       "      <td>Y</td>\n",
       "      <td>Y</td>\n",
       "      <td>BrkTil</td>\n",
       "      <td>Corner</td>\n",
       "      <td>TA</td>\n",
       "      <td>AllPub</td>\n",
       "      <td>Gable</td>\n",
       "      <td>Crawfor</td>\n",
       "      <td>TA</td>\n",
       "      <td>Unf</td>\n",
       "      <td>No</td>\n",
       "      <td>1Fam</td>\n",
       "      <td>IR1</td>\n",
       "      <td>Unf</td>\n",
       "      <td>Gd</td>\n",
       "      <td>TA</td>\n",
       "      <td>Gd</td>\n",
       "      <td>TA</td>\n",
       "    </tr>\n",
       "    <tr>\n",
       "      <th>4</th>\n",
       "      <td>Y</td>\n",
       "      <td>Y</td>\n",
       "      <td>PConc</td>\n",
       "      <td>FR2</td>\n",
       "      <td>TA</td>\n",
       "      <td>AllPub</td>\n",
       "      <td>Gable</td>\n",
       "      <td>NoRidge</td>\n",
       "      <td>TA</td>\n",
       "      <td>Unf</td>\n",
       "      <td>Av</td>\n",
       "      <td>1Fam</td>\n",
       "      <td>IR1</td>\n",
       "      <td>RFn</td>\n",
       "      <td>Ex</td>\n",
       "      <td>Gd</td>\n",
       "      <td>Gd</td>\n",
       "      <td>Gd</td>\n",
       "    </tr>\n",
       "  </tbody>\n",
       "</table>\n",
       "</div>"
      ],
      "text/plain": [
       "  CentralAir PavedDrive Foundation LotConfig ExterCond Utilities RoofStyle  \\\n",
       "0          Y          Y      PConc    Inside        TA    AllPub     Gable   \n",
       "1          Y          Y     CBlock       FR2        TA    AllPub     Gable   \n",
       "2          Y          Y      PConc    Inside        TA    AllPub     Gable   \n",
       "3          Y          Y     BrkTil    Corner        TA    AllPub     Gable   \n",
       "4          Y          Y      PConc       FR2        TA    AllPub     Gable   \n",
       "\n",
       "  Neighborhood GarageQual BsmtFinType2 BsmtExposure BldgType LotShape  \\\n",
       "0      CollgCr         TA          Unf           No     1Fam      Reg   \n",
       "1      Veenker         TA          Unf           Gd     1Fam      Reg   \n",
       "2      CollgCr         TA          Unf           Mn     1Fam      IR1   \n",
       "3      Crawfor         TA          Unf           No     1Fam      IR1   \n",
       "4      NoRidge         TA          Unf           Av     1Fam      IR1   \n",
       "\n",
       "  GarageFinish HeatingQC ExterQual KitchenQual BsmtQual  \n",
       "0          RFn        Ex        Gd          Gd       Gd  \n",
       "1          RFn        Ex        TA          TA       Gd  \n",
       "2          RFn        Ex        Gd          Gd       Gd  \n",
       "3          Unf        Gd        TA          Gd       TA  \n",
       "4          RFn        Ex        Gd          Gd       Gd  "
      ]
     },
     "execution_count": 668,
     "metadata": {},
     "output_type": "execute_result"
    }
   ],
   "source": [
    "housing[variables_categoricas2].head()"
   ]
  },
  {
   "cell_type": "code",
   "execution_count": 669,
   "metadata": {},
   "outputs": [],
   "source": [
    "column_selector_segundo_modelo = ColumnTransformer(\n",
    "    [(\"Encoder\", OneHotEncoder(categories = categorias2,sparse=False), variables_categoricas2),\n",
    "     (\"Imputer\", SimpleImputer(missing_values = np.nan, strategy = \"most_frequent\"), make_column_selector(dtype_include=[\"float\",\"integer\"])),\n",
    "     (\"Scaler\", StandardScaler(),make_column_selector(dtype_include=[\"integer\"])), \n",
    "     (\"Normalizer\",Normalizer(),make_column_selector(dtype_include=[\"integer\"]))\n",
    "    ]\n",
    ")\n",
    "    \n",
    "pipeline_segundo_modelo = Pipeline([ \n",
    "    (\"select_cols\", column_selector_segundo_modelo), \n",
    "    (\"random_forest\",  RandomForestRegressor(max_depth=None, criterion='mse',n_jobs=-1,random_state=314)) \n",
    "])\n",
    "\n",
    "grid_search_cv_2 = GridSearchCV(estimator=pipeline_segundo_modelo,\n",
    "                           param_grid = {'random_forest__max_depth':[4,6,10]},\n",
    "                           cv=5, scoring = 'neg_mean_squared_error',\n",
    "                           verbose = 0,\n",
    "                           return_train_score=True)\n",
    "\n",
    "grid_search_cv_2.fit(xtrain,ytrain)\n",
    "\n",
    "\n",
    "cv_segundo_modelo = cross_validate(grid_search_cv_2.best_estimator_, xtrain, ytrain, cv=5, scoring=[\"r2\", \"neg_mean_absolute_error\"])\n",
    "R2_segundo_modelo = cv_segundo_modelo[\"test_r2\"]\n",
    "mae_segundo_modelo = -cv_segundo_modelo[\"test_neg_mean_absolute_error\"]\n",
    "    \n"
   ]
  },
  {
   "cell_type": "code",
   "execution_count": 670,
   "metadata": {
    "scrolled": false
   },
   "outputs": [
    {
     "name": "stdout",
     "output_type": "stream",
     "text": [
      "R2 : [0.89922558 0.85425443 0.87553867 0.77043859 0.81222456]\n",
      "Promedio R2 : 0.8423363656685272\n",
      "MAE : [17243.59325249 18495.23025056 17212.05375919 22297.07830891\n",
      " 19353.01104892]\n",
      "Promedio MAE : 18920.193324014952\n"
     ]
    }
   ],
   "source": [
    "print(f\"R2 : {R2_segundo_modelo}\")\n",
    "print(f\"Promedio R2 : {R2_segundo_modelo.mean()}\")\n",
    "print(f\"MAE : {mae_segundo_modelo}\")\n",
    "print(f\"Promedio MAE : {mae_segundo_modelo.mean()}\")"
   ]
  },
  {
   "cell_type": "markdown",
   "metadata": {},
   "source": [
    "**Los resultados de las mètricas R2 y MAE son los siguientes:**\n",
    "\n",
    "**R2**: `[0.89922558, 0.85425443, 0.87553867, 0.77043859, 0.81222456]`\n",
    "\n",
    "**MAE** :`[17243.59325249, 18495.23025056, 17212.05375919, 22297.07830891, 19353.01104892]`\n",
    "\n",
    "\n",
    "\n",
    "**Promedio R2** : `0.8423363656685272`\n",
    "\n",
    "\n",
    "**Promedio MAE** :`18920.193324014952`"
   ]
  },
  {
   "cell_type": "markdown",
   "metadata": {},
   "source": [
    "<h2 style=\"color:Darkblue\">Tercer modelo: Random Forest Regressor <h2>\n",
    " \n",
    "Utilizando Grid Search para encontrar los parámetros óptimos y elimando aquellas variables que no representen una correlación fuerte con SalePrice, SIN IMPORTAR SI SON CATEGÒRICAS O NO."
   ]
  },
  {
   "cell_type": "markdown",
   "metadata": {},
   "source": [
    "Para empezar, debemos generar una nueva matriz de correlaciòn, la cual contemple todas las variables que queremos integrar y conocer su correlaciòn."
   ]
  },
  {
   "cell_type": "code",
   "execution_count": 524,
   "metadata": {},
   "outputs": [],
   "source": [
    "correlation_matrix_modelo3 = pd.DataFrame(housing2.corr()[\"SalePrice\"])"
   ]
  },
  {
   "cell_type": "markdown",
   "metadata": {},
   "source": [
    "Ahora bien, debemos generar una lista \"drop\" que contenga todas las variables que tengan una correlaciòn menor a 0 y que no queremos contemplar en el modelo."
   ]
  },
  {
   "cell_type": "code",
   "execution_count": 686,
   "metadata": {},
   "outputs": [],
   "source": [
    "from pandas.plotting import scatter_matrix"
   ]
  },
  {
   "cell_type": "code",
   "execution_count": 721,
   "metadata": {},
   "outputs": [],
   "source": [
    "drop = list(correlation_matrix_modelo3[(correlation_matrix_modelo3[\"SalePrice\"]<0)].index)\n",
    "for i in [\"Alley\", \"PoolQC\", \"Fence\", \"FireplaceQu\",\"MiscFeature\"]:\n",
    "    drop.append(i)"
   ]
  },
  {
   "cell_type": "code",
   "execution_count": 722,
   "metadata": {},
   "outputs": [
    {
     "name": "stdout",
     "output_type": "stream",
     "text": [
      "['Id', 'MSSubClass', 'MSZoning', 'Street', 'LandContour', 'LandSlope', 'Condition1', 'Condition2', 'HouseStyle', 'OverallCond', 'RoofMatl', 'Exterior1st', 'Exterior2nd', 'MasVnrType', 'Foundation', 'BsmtCond', 'BsmtFinType1', 'BsmtFinSF2', 'Heating', 'CentralAir', 'Electrical', 'LowQualFinSF', 'BsmtHalfBath', 'KitchenAbvGr', 'Functional', 'GarageType', 'GarageCond', 'PavedDrive', 'EnclosedPorch', 'MiscVal', 'YrSold', 'SaleType', 'SaleCondition', 'Alley', 'PoolQC', 'Fence', 'FireplaceQu', 'MiscFeature']\n"
     ]
    }
   ],
   "source": [
    "print(drop)"
   ]
  },
  {
   "cell_type": "markdown",
   "metadata": {},
   "source": [
    "Ahora bien, debemos generar nuevos train y test sets, los cuales no contemplen las variables de la lista `drop`:"
   ]
  },
  {
   "cell_type": "code",
   "execution_count": 723,
   "metadata": {},
   "outputs": [],
   "source": [
    "train_3, test_3 = train_test_split(housing.drop(drop,axis=1), test_size=0.2, random_state=2718)\n",
    "xtrain_3, ytrain_3 = train_3.drop(\"SalePrice\", axis=1), train_3[\"SalePrice\"]\n",
    "xtest_3, ytest_3 =test_3.drop(\"SalePrice\", axis=1), test_3[\"SalePrice\"]"
   ]
  },
  {
   "cell_type": "markdown",
   "metadata": {},
   "source": [
    "Posteriormente, generamos nuestras nuevas variables categóricas de interes y nuestras categorías:"
   ]
  },
  {
   "cell_type": "code",
   "execution_count": 724,
   "metadata": {},
   "outputs": [],
   "source": [
    "variables_categoricas3 = list(housing.drop(drop,axis=1).select_dtypes(include='object').columns.values)\n",
    "\n",
    "categorias3 = []\n",
    "\n",
    "for j in variables_categoricas3:\n",
    "    categorias3.append(list(housing.drop(drop,axis=1)[j].unique()))"
   ]
  },
  {
   "cell_type": "code",
   "execution_count": 725,
   "metadata": {
    "scrolled": true
   },
   "outputs": [
    {
     "data": {
      "text/html": [
       "<div>\n",
       "<style scoped>\n",
       "    .dataframe tbody tr th:only-of-type {\n",
       "        vertical-align: middle;\n",
       "    }\n",
       "\n",
       "    .dataframe tbody tr th {\n",
       "        vertical-align: top;\n",
       "    }\n",
       "\n",
       "    .dataframe thead th {\n",
       "        text-align: right;\n",
       "    }\n",
       "</style>\n",
       "<table border=\"1\" class=\"dataframe\">\n",
       "  <thead>\n",
       "    <tr style=\"text-align: right;\">\n",
       "      <th></th>\n",
       "      <th>LotShape</th>\n",
       "      <th>Utilities</th>\n",
       "      <th>LotConfig</th>\n",
       "      <th>Neighborhood</th>\n",
       "      <th>BldgType</th>\n",
       "      <th>RoofStyle</th>\n",
       "      <th>ExterQual</th>\n",
       "      <th>ExterCond</th>\n",
       "      <th>BsmtQual</th>\n",
       "      <th>BsmtExposure</th>\n",
       "      <th>BsmtFinType2</th>\n",
       "      <th>HeatingQC</th>\n",
       "      <th>KitchenQual</th>\n",
       "      <th>GarageFinish</th>\n",
       "      <th>GarageQual</th>\n",
       "    </tr>\n",
       "  </thead>\n",
       "  <tbody>\n",
       "    <tr>\n",
       "      <th>760</th>\n",
       "      <td>Reg</td>\n",
       "      <td>AllPub</td>\n",
       "      <td>Inside</td>\n",
       "      <td>NAmes</td>\n",
       "      <td>1Fam</td>\n",
       "      <td>Hip</td>\n",
       "      <td>TA</td>\n",
       "      <td>TA</td>\n",
       "      <td>TA</td>\n",
       "      <td>No</td>\n",
       "      <td>Unf</td>\n",
       "      <td>Ex</td>\n",
       "      <td>TA</td>\n",
       "      <td>Unf</td>\n",
       "      <td>Ex</td>\n",
       "    </tr>\n",
       "    <tr>\n",
       "      <th>962</th>\n",
       "      <td>Reg</td>\n",
       "      <td>AllPub</td>\n",
       "      <td>Corner</td>\n",
       "      <td>NPkVill</td>\n",
       "      <td>TwnhsE</td>\n",
       "      <td>Gable</td>\n",
       "      <td>TA</td>\n",
       "      <td>TA</td>\n",
       "      <td>Gd</td>\n",
       "      <td>No</td>\n",
       "      <td>Unf</td>\n",
       "      <td>TA</td>\n",
       "      <td>Gd</td>\n",
       "      <td>Unf</td>\n",
       "      <td>TA</td>\n",
       "    </tr>\n",
       "    <tr>\n",
       "      <th>954</th>\n",
       "      <td>IR1</td>\n",
       "      <td>AllPub</td>\n",
       "      <td>CulDSac</td>\n",
       "      <td>Edwards</td>\n",
       "      <td>Duplex</td>\n",
       "      <td>Flat</td>\n",
       "      <td>TA</td>\n",
       "      <td>TA</td>\n",
       "      <td>Gd</td>\n",
       "      <td>Gd</td>\n",
       "      <td>Unf</td>\n",
       "      <td>TA</td>\n",
       "      <td>TA</td>\n",
       "      <td>Unf</td>\n",
       "      <td>TA</td>\n",
       "    </tr>\n",
       "    <tr>\n",
       "      <th>1286</th>\n",
       "      <td>Reg</td>\n",
       "      <td>AllPub</td>\n",
       "      <td>Inside</td>\n",
       "      <td>NWAmes</td>\n",
       "      <td>1Fam</td>\n",
       "      <td>Hip</td>\n",
       "      <td>TA</td>\n",
       "      <td>TA</td>\n",
       "      <td>TA</td>\n",
       "      <td>No</td>\n",
       "      <td>Rec</td>\n",
       "      <td>TA</td>\n",
       "      <td>TA</td>\n",
       "      <td>Unf</td>\n",
       "      <td>TA</td>\n",
       "    </tr>\n",
       "    <tr>\n",
       "      <th>1024</th>\n",
       "      <td>IR1</td>\n",
       "      <td>AllPub</td>\n",
       "      <td>Corner</td>\n",
       "      <td>Timber</td>\n",
       "      <td>1Fam</td>\n",
       "      <td>Hip</td>\n",
       "      <td>Gd</td>\n",
       "      <td>TA</td>\n",
       "      <td>Gd</td>\n",
       "      <td>Av</td>\n",
       "      <td>LwQ</td>\n",
       "      <td>TA</td>\n",
       "      <td>Gd</td>\n",
       "      <td>Fin</td>\n",
       "      <td>TA</td>\n",
       "    </tr>\n",
       "  </tbody>\n",
       "</table>\n",
       "</div>"
      ],
      "text/plain": [
       "     LotShape Utilities LotConfig Neighborhood BldgType RoofStyle ExterQual  \\\n",
       "760       Reg    AllPub    Inside        NAmes     1Fam       Hip        TA   \n",
       "962       Reg    AllPub    Corner      NPkVill   TwnhsE     Gable        TA   \n",
       "954       IR1    AllPub   CulDSac      Edwards   Duplex      Flat        TA   \n",
       "1286      Reg    AllPub    Inside       NWAmes     1Fam       Hip        TA   \n",
       "1024      IR1    AllPub    Corner       Timber     1Fam       Hip        Gd   \n",
       "\n",
       "     ExterCond BsmtQual BsmtExposure BsmtFinType2 HeatingQC KitchenQual  \\\n",
       "760         TA       TA           No          Unf        Ex          TA   \n",
       "962         TA       Gd           No          Unf        TA          Gd   \n",
       "954         TA       Gd           Gd          Unf        TA          TA   \n",
       "1286        TA       TA           No          Rec        TA          TA   \n",
       "1024        TA       Gd           Av          LwQ        TA          Gd   \n",
       "\n",
       "     GarageFinish GarageQual  \n",
       "760           Unf         Ex  \n",
       "962           Unf         TA  \n",
       "954           Unf         TA  \n",
       "1286          Unf         TA  \n",
       "1024          Fin         TA  "
      ]
     },
     "execution_count": 725,
     "metadata": {},
     "output_type": "execute_result"
    }
   ],
   "source": [
    "train_3[variables_categoricas3].head()"
   ]
  },
  {
   "cell_type": "markdown",
   "metadata": {},
   "source": [
    "**Finalmente entrenamos el modelo:**"
   ]
  },
  {
   "cell_type": "code",
   "execution_count": 728,
   "metadata": {},
   "outputs": [],
   "source": [
    "column_selector_tercer_modelo = ColumnTransformer(\n",
    "    [(\"Encoder\", OneHotEncoder(categories = categorias3,sparse=False), variables_categoricas3),\n",
    "     (\"Imputer\", SimpleImputer(missing_values = np.nan, strategy = \"most_frequent\"), make_column_selector(dtype_include=[\"float\",\"integer\"])),\n",
    "     (\"Scaler\", StandardScaler(),make_column_selector(dtype_include=[\"integer\"])), \n",
    "     (\"Normalizer\",Normalizer(),make_column_selector(dtype_include=[\"integer\"]))\n",
    "    ]\n",
    ")\n",
    "    \n",
    "pipeline_tercer_modelo = Pipeline([ \n",
    "    (\"select_cols\", column_selector_tercer_modelo), \n",
    "    (\"random_forest\",  RandomForestRegressor(max_depth=None, criterion='mse',n_jobs=-1,random_state=314)) \n",
    "])\n",
    "\n",
    "grid_search_cv_3 = GridSearchCV(estimator=pipeline_tercer_modelo,\n",
    "                           param_grid = {'random_forest__max_depth':[4,6,10]},\n",
    "                           cv=5, scoring = 'neg_mean_squared_error',\n",
    "                           verbose = 0,\n",
    "                           return_train_score=True)\n",
    "\n",
    "grid_search_cv_3.fit(xtrain_3,ytrain_3)\n",
    "\n",
    "\n",
    "cv_tercer_modelo = cross_validate(grid_search_cv_3.best_estimator_, xtrain_3, ytrain_3, cv=5, scoring=[\"r2\", \"neg_mean_absolute_error\"])\n",
    "R2_tercer_modelo = cv_tercer_modelo[\"test_r2\"]\n",
    "mae_tercer_modelo = -cv_tercer_modelo[\"test_neg_mean_absolute_error\"]"
   ]
  },
  {
   "cell_type": "code",
   "execution_count": 729,
   "metadata": {
    "scrolled": false
   },
   "outputs": [
    {
     "name": "stdout",
     "output_type": "stream",
     "text": [
      "R2 : [0.89656599 0.85741948 0.87513293 0.78137981 0.80930735]\n",
      "Promedio R2 : 0.8439611116634504\n",
      "MAE : [17362.8720845  18248.94395506 17085.64142933 22193.93005426\n",
      " 19547.24706158]\n",
      "Promedio MAE : 18887.72691694639\n"
     ]
    }
   ],
   "source": [
    "print(f\"R2 : {R2_tercer_modelo}\")\n",
    "print(f\"Promedio R2 : {R2_tercer_modelo.mean()}\")\n",
    "print(f\"MAE : {mae_tercer_modelo}\")\n",
    "print(f\"Promedio MAE : {mae_tercer_modelo.mean()}\")"
   ]
  },
  {
   "cell_type": "markdown",
   "metadata": {},
   "source": [
    "**Los resultados de las mètricas R2 y MAE son los siguientes:**\n",
    "\n",
    "**R2**: `[0.89656599, 0.85741948, 0.87513293, 0.78137981, 0.80930735]`\n",
    "\n",
    "**MAE** :`[17362.8720845,  18248.94395506, 17085.64142933, 22193.93005426, 19547.24706158]`\n",
    "\n",
    "\n",
    "\n",
    "**Promedio R2** : `0.8439611116634504`\n",
    "\n",
    "\n",
    "**Promedio MAE** :`18887.72691694639`"
   ]
  },
  {
   "cell_type": "markdown",
   "metadata": {},
   "source": [
    "<h2 style=\"color:Darkblue\">Summary: <h2>\n",
    " \n",
    "Vamos a revisar los resultados de las métricas para los 3 modelos."
   ]
  },
  {
   "cell_type": "code",
   "execution_count": 618,
   "metadata": {},
   "outputs": [],
   "source": [
    "import matplotlib.pyplot as plt"
   ]
  },
  {
   "cell_type": "code",
   "execution_count": 671,
   "metadata": {
    "scrolled": true
   },
   "outputs": [],
   "source": [
    "Resultados_R2 = pd.DataFrame([R2_primer_modelo,R2_segundo_modelo,R2_tercer_modelo])\n",
    "Resultados_MAE = pd.DataFrame([mae_primer_modelo,mae_segundo_modelo,mae_tercer_modelo])\n",
    "Resultados_R2.columns=[\"K1\",\"K2\",\"K3\",\"K4\",\"K5\"]\n",
    "Resultados_R2.index=[\"Primer modelo\",\"Segundo modelo\",\"Tercer modelo\"]\n",
    "Resultados_MAE.columns=[\"K1\",\"K2\",\"K3\",\"K4\",\"K5\"]\n",
    "Resultados_MAE.index=[\"Primer modelo\",\"Segundo modelo\",\"Tercer modelo\"]"
   ]
  },
  {
   "cell_type": "code",
   "execution_count": 672,
   "metadata": {},
   "outputs": [
    {
     "data": {
      "text/html": [
       "<div>\n",
       "<style scoped>\n",
       "    .dataframe tbody tr th:only-of-type {\n",
       "        vertical-align: middle;\n",
       "    }\n",
       "\n",
       "    .dataframe tbody tr th {\n",
       "        vertical-align: top;\n",
       "    }\n",
       "\n",
       "    .dataframe thead th {\n",
       "        text-align: right;\n",
       "    }\n",
       "</style>\n",
       "<table border=\"1\" class=\"dataframe\">\n",
       "  <thead>\n",
       "    <tr style=\"text-align: right;\">\n",
       "      <th></th>\n",
       "      <th>K1</th>\n",
       "      <th>K2</th>\n",
       "      <th>K3</th>\n",
       "      <th>K4</th>\n",
       "      <th>K5</th>\n",
       "    </tr>\n",
       "  </thead>\n",
       "  <tbody>\n",
       "    <tr>\n",
       "      <th>Primer modelo</th>\n",
       "      <td>17362.852937</td>\n",
       "      <td>18478.025032</td>\n",
       "      <td>17020.065804</td>\n",
       "      <td>22193.828860</td>\n",
       "      <td>19472.548657</td>\n",
       "    </tr>\n",
       "    <tr>\n",
       "      <th>Segundo modelo</th>\n",
       "      <td>17243.593252</td>\n",
       "      <td>18495.230251</td>\n",
       "      <td>17212.053759</td>\n",
       "      <td>22297.078309</td>\n",
       "      <td>19353.011049</td>\n",
       "    </tr>\n",
       "    <tr>\n",
       "      <th>Tercer modelo</th>\n",
       "      <td>17362.872085</td>\n",
       "      <td>18248.943955</td>\n",
       "      <td>17085.641429</td>\n",
       "      <td>22193.930054</td>\n",
       "      <td>19547.247062</td>\n",
       "    </tr>\n",
       "  </tbody>\n",
       "</table>\n",
       "</div>"
      ],
      "text/plain": [
       "                          K1            K2            K3            K4  \\\n",
       "Primer modelo   17362.852937  18478.025032  17020.065804  22193.828860   \n",
       "Segundo modelo  17243.593252  18495.230251  17212.053759  22297.078309   \n",
       "Tercer modelo   17362.872085  18248.943955  17085.641429  22193.930054   \n",
       "\n",
       "                          K5  \n",
       "Primer modelo   19472.548657  \n",
       "Segundo modelo  19353.011049  \n",
       "Tercer modelo   19547.247062  "
      ]
     },
     "execution_count": 672,
     "metadata": {},
     "output_type": "execute_result"
    }
   ],
   "source": [
    "Resultados_MAE"
   ]
  },
  {
   "cell_type": "code",
   "execution_count": 673,
   "metadata": {},
   "outputs": [
    {
     "data": {
      "text/html": [
       "<div>\n",
       "<style scoped>\n",
       "    .dataframe tbody tr th:only-of-type {\n",
       "        vertical-align: middle;\n",
       "    }\n",
       "\n",
       "    .dataframe tbody tr th {\n",
       "        vertical-align: top;\n",
       "    }\n",
       "\n",
       "    .dataframe thead th {\n",
       "        text-align: right;\n",
       "    }\n",
       "</style>\n",
       "<table border=\"1\" class=\"dataframe\">\n",
       "  <thead>\n",
       "    <tr style=\"text-align: right;\">\n",
       "      <th></th>\n",
       "      <th>K1</th>\n",
       "      <th>K2</th>\n",
       "      <th>K3</th>\n",
       "      <th>K4</th>\n",
       "      <th>K5</th>\n",
       "    </tr>\n",
       "  </thead>\n",
       "  <tbody>\n",
       "    <tr>\n",
       "      <th>Primer modelo</th>\n",
       "      <td>0.897334</td>\n",
       "      <td>0.856467</td>\n",
       "      <td>0.878604</td>\n",
       "      <td>0.774409</td>\n",
       "      <td>0.813483</td>\n",
       "    </tr>\n",
       "    <tr>\n",
       "      <th>Segundo modelo</th>\n",
       "      <td>0.899226</td>\n",
       "      <td>0.854254</td>\n",
       "      <td>0.875539</td>\n",
       "      <td>0.770439</td>\n",
       "      <td>0.812225</td>\n",
       "    </tr>\n",
       "    <tr>\n",
       "      <th>Tercer modelo</th>\n",
       "      <td>0.896566</td>\n",
       "      <td>0.857419</td>\n",
       "      <td>0.875133</td>\n",
       "      <td>0.781380</td>\n",
       "      <td>0.809307</td>\n",
       "    </tr>\n",
       "  </tbody>\n",
       "</table>\n",
       "</div>"
      ],
      "text/plain": [
       "                      K1        K2        K3        K4        K5\n",
       "Primer modelo   0.897334  0.856467  0.878604  0.774409  0.813483\n",
       "Segundo modelo  0.899226  0.854254  0.875539  0.770439  0.812225\n",
       "Tercer modelo   0.896566  0.857419  0.875133  0.781380  0.809307"
      ]
     },
     "execution_count": 673,
     "metadata": {},
     "output_type": "execute_result"
    }
   ],
   "source": [
    "Resultados_R2"
   ]
  },
  {
   "cell_type": "code",
   "execution_count": 683,
   "metadata": {
    "scrolled": false
   },
   "outputs": [
    {
     "data": {
      "image/png": "[encoded data removed]",
      "text/plain": [
       "<Figure size 720x288 with 1 Axes>"
      ]
     },
     "metadata": {
      "needs_background": "light"
     },
     "output_type": "display_data"
    }
   ],
   "source": [
    "Resultados_MAE.T.plot(title = \"Resultados MAE\",figsize=(10,4))\n",
    "plt.show();"
   ]
  },
  {
   "cell_type": "code",
   "execution_count": 684,
   "metadata": {},
   "outputs": [
    {
     "data": {
      "image/png": "[encoded data removed]",
      "text/plain": [
       "<Figure size 720x288 with 1 Axes>"
      ]
     },
     "metadata": {
      "needs_background": "light"
     },
     "output_type": "display_data"
    }
   ],
   "source": [
    "Resultados_R2.T.plot(title = \"Resultados R2\",figsize=(10,4));"
   ]
  },
  {
   "cell_type": "code",
   "execution_count": 675,
   "metadata": {
    "scrolled": true
   },
   "outputs": [
    {
     "data": {
      "image/png": "[encoded data removed]",
      "text/plain": [
       "<Figure size 720x288 with 1 Axes>"
      ]
     },
     "metadata": {
      "needs_background": "light"
     },
     "output_type": "display_data"
    }
   ],
   "source": [
    "Resultados_R2.T.mean().plot(title = \"Resultados R2\",figsize=(10,4));"
   ]
  },
  {
   "cell_type": "code",
   "execution_count": 676,
   "metadata": {
    "scrolled": false
   },
   "outputs": [
    {
     "data": {
      "image/png": "[encoded data removed]",
      "text/plain": [
       "<Figure size 720x288 with 1 Axes>"
      ]
     },
     "metadata": {
      "needs_background": "light"
     },
     "output_type": "display_data"
    }
   ],
   "source": [
    "Resultados_MAE.T.mean().plot(title = \"Resultados MAE\",figsize=(10,4));"
   ]
  },
  {
   "cell_type": "markdown",
   "metadata": {},
   "source": [
    "<h2 style=\"color:Darkblue\">Resultados:<h2>\n",
    "    \n",
    "Mediante el uso del Primer modelo se maximiza el valor promedio de:\n",
    "\n",
    "\n",
    "$${R}^{2}\\;=\\; 0.844059517287492\\;$$\n",
    "\n",
    "\n",
    "\n",
    "Mediante el uso del Segundo modelo se minimiza el valor promedio de:\n",
    "\n",
    "\n",
    "\n",
    "$$MAE\\;=\\; 18887.72691694639$$"
   ]
  }
 ],
 "metadata": {
  "kernelspec": {
   "display_name": "Python 3",
   "language": "python",
   "name": "python3"
  },
  "language_info": {
   "codemirror_mode": {
    "name": "ipython",
    "version": 3
   },
   "file_extension": ".py",
   "mimetype": "text/x-python",
   "name": "python",
   "nbconvert_exporter": "python",
   "pygments_lexer": "ipython3",
   "version": "3.7.6"
  }
 },
 "nbformat": 4,
 "nbformat_minor": 2
}
