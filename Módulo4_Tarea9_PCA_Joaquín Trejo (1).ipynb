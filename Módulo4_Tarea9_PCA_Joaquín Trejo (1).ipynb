{
 "cells": [
  {
   "cell_type": "markdown",
   "metadata": {},
   "source": [
    "<h2 style=\"color:crimson\">Ejercicio</h2>\n",
    "\n",
    "**Entrenando un modelo con PCA**  \n",
    "Considerando  `xtrain`, `ytrain` definido en las céldas de arriba, crea dos modelos: \n",
    "1. Un pipeline considerando PCA con `n_components=0.7` seguido de un modelo `KNeighborsClassifier` con `n_neighbors=5`\n",
    "2. `KNeighborsClassifier` con `n_neighbors=5`\n",
    "\n",
    "Realiza un *cross validation* con `cv=3`.\n",
    "* ¿Qué resultados arroja cada modelo?\n",
    "* ¿que ventajas tiene cada modelo?\n",
    "* ¿Cuánto tarda en correr cada *cross-validation*?"
   ]
  },
  {
   "cell_type": "markdown",
   "metadata": {},
   "source": [
    "**Creamos las bases train y test:**"
   ]
  },
  {
   "cell_type": "code",
   "execution_count": 1,
   "metadata": {},
   "outputs": [],
   "source": [
    "from tensorflow.keras import datasets\n",
    "import numpy as np\n",
    "np.random.seed(3141)\n",
    "train, test = datasets.mnist.load_data()\n",
    "xtrain, ytrain = train"
   ]
  },
  {
   "cell_type": "markdown",
   "metadata": {},
   "source": [
    "**Realizamos la reducción de dimensiones:**"
   ]
  },
  {
   "cell_type": "code",
   "execution_count": 2,
   "metadata": {},
   "outputs": [],
   "source": [
    "from sklearn.decomposition import PCA\n",
    "pca = PCA(n_components=.7)\n",
    "x_reduced = pca.fit_transform(xtrain.reshape(xtrain.shape[0], -1))"
   ]
  },
  {
   "cell_type": "markdown",
   "metadata": {},
   "source": [
    "**Generamos el primer modelo mediante un Pipeline, y validamos el tiempo que tarda en correr:**"
   ]
  },
  {
   "cell_type": "code",
   "execution_count": 3,
   "metadata": {},
   "outputs": [],
   "source": [
    "from sklearn.neighbors import KNeighborsClassifier\n",
    "from sklearn.pipeline import Pipeline\n",
    "from sklearn.model_selection import cross_validate"
   ]
  },
  {
   "cell_type": "code",
   "execution_count": 4,
   "metadata": {},
   "outputs": [
    {
     "name": "stdout",
     "output_type": "stream",
     "text": [
      "Wall time: 32.3 s\n"
     ]
    },
    {
     "data": {
      "text/plain": [
       "{'fit_time': array([0.46033907, 0.46708894, 0.50389981]),\n",
       " 'score_time': array([10.4206183 , 10.06156945, 10.32109451]),\n",
       " 'test_score': array([0.93595, 0.93105, 0.9331 ])}"
      ]
     },
     "execution_count": 4,
     "metadata": {},
     "output_type": "execute_result"
    }
   ],
   "source": [
    "%%time\n",
    "Pipe_line_modelo_1 = Pipeline([\n",
    "    (\"pca\",PCA(n_components=.7)),\n",
    "    (\"KNeighborsC\", KNeighborsClassifier(n_neighbors=5))\n",
    "])\n",
    "\n",
    "cv_modelo_1 = cross_validate(Pipe_line_modelo_1, x_reduced, ytrain, cv=3)\n",
    "cv_modelo_1"
   ]
  },
  {
   "cell_type": "markdown",
   "metadata": {},
   "source": [
    "**Generamos el primer modelo (Cross Validation), y validamos el tiempo que tarda en correr:**"
   ]
  },
  {
   "cell_type": "code",
   "execution_count": 10,
   "metadata": {},
   "outputs": [
    {
     "name": "stdout",
     "output_type": "stream",
     "text": [
      "Wall time: 2min 43s\n"
     ]
    },
    {
     "data": {
      "text/plain": [
       "{'fit_time': array([0.77477217, 0.79814529, 0.81417036]),\n",
       " 'score_time': array([53.16196251, 53.98746324, 53.97927928]),\n",
       " 'test_score': array([0.9714 , 0.9699 , 0.97045])}"
      ]
     },
     "execution_count": 10,
     "metadata": {},
     "output_type": "execute_result"
    }
   ],
   "source": [
    "%%time\n",
    "\n",
    "cv_modelo_2 = cross_validate(KNeighborsClassifier(n_neighbors=5), x_reduced, ytrain, cv=3)\n",
    "cv_modelo_2"
   ]
  },
  {
   "cell_type": "code",
   "execution_count": 11,
   "metadata": {},
   "outputs": [
    {
     "data": {
      "text/plain": [
       "array([0.93595, 0.93105, 0.9331 ])"
      ]
     },
     "execution_count": 11,
     "metadata": {},
     "output_type": "execute_result"
    }
   ],
   "source": [
    "cv_modelo_1['test_score']"
   ]
  },
  {
   "cell_type": "code",
   "execution_count": 12,
   "metadata": {},
   "outputs": [
    {
     "data": {
      "text/plain": [
       "array([0.9714 , 0.9699 , 0.97045])"
      ]
     },
     "execution_count": 12,
     "metadata": {},
     "output_type": "execute_result"
    }
   ],
   "source": [
    "cv_modelo_2['test_score']"
   ]
  },
  {
   "cell_type": "code",
   "execution_count": 13,
   "metadata": {},
   "outputs": [
    {
     "data": {
      "text/plain": [
       "0.9333666666666667"
      ]
     },
     "execution_count": 13,
     "metadata": {},
     "output_type": "execute_result"
    }
   ],
   "source": [
    "cv_modelo_1['test_score'].mean()"
   ]
  },
  {
   "cell_type": "code",
   "execution_count": 14,
   "metadata": {
    "scrolled": true
   },
   "outputs": [
    {
     "data": {
      "text/plain": [
       "0.9705833333333334"
      ]
     },
     "execution_count": 14,
     "metadata": {},
     "output_type": "execute_result"
    }
   ],
   "source": [
    "cv_modelo_2['test_score'].mean()"
   ]
  },
  {
   "cell_type": "markdown",
   "metadata": {},
   "source": [
    "**El modelo 1 corre a una mayor velocidad que el modelo 2, sin embargo es menos preciso**"
   ]
  }
 ],
 "metadata": {
  "kernelspec": {
   "display_name": "Python 3",
   "language": "python",
   "name": "python3"
  },
  "language_info": {
   "codemirror_mode": {
    "name": "ipython",
    "version": 3
   },
   "file_extension": ".py",
   "mimetype": "text/x-python",
   "name": "python",
   "nbconvert_exporter": "python",
   "pygments_lexer": "ipython3",
   "version": "3.7.4"
  }
 },
 "nbformat": 4,
 "nbformat_minor": 2
}
