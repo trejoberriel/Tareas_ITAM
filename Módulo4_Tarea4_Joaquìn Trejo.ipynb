{
 "cells": [
  {
   "cell_type": "markdown",
   "metadata": {},
   "source": [
    "# Tarea4"
   ]
  },
  {
   "cell_type": "markdown",
   "metadata": {},
   "source": [
    "1. Entrena y calibra un árbol de decisión para la base de datos `moons`\n",
    "    * Genera una base de datos usando `make_moons(n_samples=10_000, noise=0.4, random_state=25)` (la función se importa desde `sklearn.datasets`)\n",
    "    * Divide entre *train* y *test* set usando `train_test_split`\n",
    "    * Realiza una búsqueda con cross-validation para encontrar hiperparámetros que mejoren un modelo de `DecisionTreeClassifier`. **Comenta tus resultados y lo que encontró el modelo**"
   ]
  },
  {
   "cell_type": "code",
   "execution_count": 1,
   "metadata": {},
   "outputs": [],
   "source": [
    "from sklearn.tree import DecisionTreeClassifier, export_graphviz, plot_tree\n",
    "from sklearn.datasets import make_moons\n",
    "from sklearn.model_selection import cross_validate, train_test_split"
   ]
  },
  {
   "cell_type": "code",
   "execution_count": 2,
   "metadata": {},
   "outputs": [
    {
     "name": "stdout",
     "output_type": "stream",
     "text": [
      "El modelo obtiene una mayor R2 promedio cuando se realizan 83 cortes, obteniendo un valor de 0.23003237439554144\n",
      "El modelo obtiene una mayor Test Recall promedio cuando se realizan 52 cortes, obteniendo un valor de 0.8128089016246912\n",
      "El modelo obtiene una mayor Test Precision promedio cuando se realizan 98 cortes, obteniendo un valor de 0.808691274457099\n"
     ]
    }
   ],
   "source": [
    "moons=make_moons()\n",
    "\n",
    "X, y = make_moons(n_samples=10_000, noise=0.4, random_state=25)\n",
    "xtrain, xtest, ytrain, ytest = train_test_split(X, y,test_size=0.2, random_state=314)\n",
    "\n",
    "r2= []\n",
    "test_recall = []\n",
    "test_precision = []\n",
    "\n",
    "for i in range(10,100):\n",
    "    cv=cross_validate(DecisionTreeClassifier(criterion=\"entropy\", random_state=314), xtrain, ytrain, cv=i, scoring=[\"r2\",\"precision\", \"recall\"],return_train_score=True)\n",
    "    r2.append(cv[\"test_r2\"].mean())\n",
    "    test_recall.append(cv['test_recall'].mean())\n",
    "    test_precision.append(cv['test_precision'].mean())\n",
    "\n",
    "print(f\"El modelo obtiene una mayor R2 promedio cuando se realizan {r2.index(max(r2))+10} cortes, obteniendo un valor de {max(r2)}\")\n",
    "\n",
    "print(f\"El modelo obtiene una mayor Test Recall promedio cuando se realizan {test_recall.index(max(test_recall))+10} cortes, obteniendo un valor de {max(test_recall)}\")\n",
    "\n",
    "print(f\"El modelo obtiene una mayor Test Precision promedio cuando se realizan {test_precision.index(max(test_precision))+10} cortes, obteniendo un valor de {max(test_precision)}\")\n",
    "\n"
   ]
  }
 ],
 "metadata": {
  "kernelspec": {
   "display_name": "Python 3",
   "language": "python",
   "name": "python3"
  },
  "language_info": {
   "codemirror_mode": {
    "name": "ipython",
    "version": 3
   },
   "file_extension": ".py",
   "mimetype": "text/x-python",
   "name": "python",
   "nbconvert_exporter": "python",
   "pygments_lexer": "ipython3",
   "version": "3.7.6"
  }
 },
 "nbformat": 4,
 "nbformat_minor": 2
}
