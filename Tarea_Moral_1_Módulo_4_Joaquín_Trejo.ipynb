{
 "cells": [
  {
   "cell_type": "code",
   "execution_count": 1,
   "metadata": {},
   "outputs": [],
   "source": [
    "import numpy as np\n",
    "import matplotlib.pyplot as plt\n",
    "from sklearn.linear_model import LinearRegression\n",
    "from sklearn.preprocessing import PolynomialFeatures\n",
    "import ipywidgets as widgets\n",
    "from IPython.display import display\n",
    "\n",
    "%matplotlib nbagg"
   ]
  },
  {
   "cell_type": "code",
   "execution_count": 2,
   "metadata": {},
   "outputs": [
    {
     "data": {
      "application/vnd.jupyter.widget-view+json": {
       "model_id": "6d4b7176dd1b4fbc9e1f8180e32ee078",
       "version_major": 2,
       "version_minor": 0
      },
      "text/plain": [
       "interactive(children=(IntSlider(value=1, description='Grado del polinomio', max=10, min=1, style=SliderStyle(d…"
      ]
     },
     "metadata": {},
     "output_type": "display_data"
    }
   ],
   "source": [
    "style = {'description_width': 'initial'}\n",
    "grado = widgets.IntSlider(min=1, max=10, value=1, description = \"Grado del polinomio\", style = style)\n",
    "\n",
    "\n",
    "def Polynomial_graph_reg(grado):\n",
    "    fig, ax = plt.subplots(1,figsize=(10,4))\n",
    "    fig.suptitle(\"Ajuste polinomial al Seno(x)\", fontsize=16)\n",
    "    \n",
    "    ax.clear()\n",
    "    \n",
    "    X = np.linspace(-4*np.pi, 4*np.pi, 1000)\n",
    "    y = np.sin(X)\n",
    "    \n",
    "    poly_features = PolynomialFeatures(degree=(grado+1), include_bias = False)\n",
    "    X_poly = poly_features.fit_transform(X[:, np.newaxis])\n",
    "    lin_reg = LinearRegression()\n",
    "    lin_reg.fit(X_poly,y)\n",
    "    xrange = np.linspace(X.min(),X.max(),1000)[:,np.newaxis]\n",
    "    xrange = poly_features.fit_transform(xrange)\n",
    "    y_predict = lin_reg.predict(xrange)\n",
    "    ax.plot(X,y,\"b-\", label = \"Datos originales\")\n",
    "    ax.plot(X_poly[:,0], y_predict,c=\"tab:red\",label = \"Modelo\")\n",
    "    plt.legend(loc = \"upper right\")\n",
    "    ax.set_xlabel('$(X)$')\n",
    "    ax.set_ylabel('$(Sin(X))$')\n",
    "    ax.set_xlim(X_poly[:,0][0],X_poly[:,0][-1])\n",
    "    plt.show()\n",
    "\n",
    "\n",
    "\n",
    "widgets.interactive(Polynomial_graph_reg, grado=grado)\n"
   ]
  }
 ],
 "metadata": {
  "kernelspec": {
   "display_name": "Python 3",
   "language": "python",
   "name": "python3"
  },
  "language_info": {
   "codemirror_mode": {
    "name": "ipython",
    "version": 3
   },
   "file_extension": ".py",
   "mimetype": "text/x-python",
   "name": "python",
   "nbconvert_exporter": "python",
   "pygments_lexer": "ipython3",
   "version": "3.7.4"
  }
 },
 "nbformat": 4,
 "nbformat_minor": 2
}
